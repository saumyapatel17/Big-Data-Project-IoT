{
 "cells": [
  {
   "cell_type": "code",
   "execution_count": 1,
   "metadata": {},
   "outputs": [],
   "source": [
    "import pandas as pd\n",
    "from sklearn.preprocessing import LabelEncoder\n",
    "from sklearn.model_selection import train_test_split\n",
    "from sklearn.preprocessing import StandardScaler\n",
    "from sklearn.naive_bayes import GaussianNB\n",
    "import pickle\n",
    "import numpy as np\n",
    "from sklearn.metrics import classification_report, accuracy_score, f1_score, precision_score, recall_score\n",
    "import time"
   ]
  },
  {
   "cell_type": "code",
   "execution_count": 2,
   "metadata": {},
   "outputs": [
    {
     "data": {
      "text/html": [
       "<div>\n",
       "<style scoped>\n",
       "    .dataframe tbody tr th:only-of-type {\n",
       "        vertical-align: middle;\n",
       "    }\n",
       "\n",
       "    .dataframe tbody tr th {\n",
       "        vertical-align: top;\n",
       "    }\n",
       "\n",
       "    .dataframe thead th {\n",
       "        text-align: right;\n",
       "    }\n",
       "</style>\n",
       "<table border=\"1\" class=\"dataframe\">\n",
       "  <thead>\n",
       "    <tr style=\"text-align: right;\">\n",
       "      <th></th>\n",
       "      <th>date</th>\n",
       "      <th>time</th>\n",
       "      <th>latitude</th>\n",
       "      <th>longitude</th>\n",
       "      <th>label</th>\n",
       "      <th>type</th>\n",
       "    </tr>\n",
       "  </thead>\n",
       "  <tbody>\n",
       "    <tr>\n",
       "      <th>0</th>\n",
       "      <td>28-Apr-19</td>\n",
       "      <td>06:59:40</td>\n",
       "      <td>0.000000</td>\n",
       "      <td>10.000000</td>\n",
       "      <td>1</td>\n",
       "      <td>0</td>\n",
       "    </tr>\n",
       "    <tr>\n",
       "      <th>1</th>\n",
       "      <td>28-Apr-19</td>\n",
       "      <td>06:59:45</td>\n",
       "      <td>0.042174</td>\n",
       "      <td>10.110109</td>\n",
       "      <td>1</td>\n",
       "      <td>0</td>\n",
       "    </tr>\n",
       "    <tr>\n",
       "      <th>2</th>\n",
       "      <td>28-Apr-19</td>\n",
       "      <td>06:59:50</td>\n",
       "      <td>0.072267</td>\n",
       "      <td>10.154155</td>\n",
       "      <td>1</td>\n",
       "      <td>0</td>\n",
       "    </tr>\n",
       "    <tr>\n",
       "      <th>3</th>\n",
       "      <td>28-Apr-19</td>\n",
       "      <td>06:59:55</td>\n",
       "      <td>0.076575</td>\n",
       "      <td>10.183636</td>\n",
       "      <td>1</td>\n",
       "      <td>0</td>\n",
       "    </tr>\n",
       "    <tr>\n",
       "      <th>4</th>\n",
       "      <td>28-Apr-19</td>\n",
       "      <td>07:00:10</td>\n",
       "      <td>0.175216</td>\n",
       "      <td>10.389326</td>\n",
       "      <td>1</td>\n",
       "      <td>0</td>\n",
       "    </tr>\n",
       "  </tbody>\n",
       "</table>\n",
       "</div>"
      ],
      "text/plain": [
       "        date        time  latitude  longitude  label  type\n",
       "0  28-Apr-19   06:59:40   0.000000  10.000000      1     0\n",
       "1  28-Apr-19   06:59:45   0.042174  10.110109      1     0\n",
       "2  28-Apr-19   06:59:50   0.072267  10.154155      1     0\n",
       "3  28-Apr-19   06:59:55   0.076575  10.183636      1     0\n",
       "4  28-Apr-19   07:00:10   0.175216  10.389326      1     0"
      ]
     },
     "execution_count": 2,
     "metadata": {},
     "output_type": "execute_result"
    }
   ],
   "source": [
    "IoT = pd.read_csv('../../data/test_GPS_Tracker.csv')\n",
    "# IoT = IoT.iloc[0:500]\n",
    "\n",
    "IoT = IoT.dropna()\n",
    "\n",
    "encoder=LabelEncoder()\n",
    "IoT['type']=encoder.fit_transform(IoT['type'])\n",
    "\n",
    "\n",
    "IoT.head()"
   ]
  },
  {
   "cell_type": "code",
   "execution_count": 3,
   "metadata": {},
   "outputs": [],
   "source": [
    "x = IoT.drop(['label', 'date', 'time', 'type'], axis=1)\n",
    "y = IoT['type']\n",
    "\n",
    "features=len(x.columns)\n",
    "\n",
    "x_train,x_test,y_train,y_test = train_test_split(x, y, test_size=0.2)"
   ]
  },
  {
   "cell_type": "code",
   "execution_count": 4,
   "metadata": {},
   "outputs": [],
   "source": [
    "sc = StandardScaler()\n",
    "x_train = sc.fit_transform(x_train)\n",
    "x_test = sc.transform(x_test)"
   ]
  },
  {
   "cell_type": "code",
   "execution_count": 5,
   "metadata": {},
   "outputs": [],
   "source": [
    "model9 = GaussianNB()"
   ]
  },
  {
   "cell_type": "code",
   "execution_count": 6,
   "metadata": {},
   "outputs": [],
   "source": [
    "filename = '../h5s/naive-bayes.h5'\n",
    "pickle.dump(model9, open(filename, 'wb'))"
   ]
  },
  {
   "cell_type": "code",
   "execution_count": 7,
   "metadata": {},
   "outputs": [],
   "source": [
    "train_start_time=time.time()\n",
    "model9.fit(x_train, y_train)\n",
    "train_end_time=time.time()"
   ]
  },
  {
   "cell_type": "code",
   "execution_count": 8,
   "metadata": {},
   "outputs": [
    {
     "data": {
      "text/plain": [
       "array([5, 5, 2, ..., 2, 4, 5])"
      ]
     },
     "execution_count": 8,
     "metadata": {},
     "output_type": "execute_result"
    }
   ],
   "source": [
    "test_start_time=time.time()\n",
    "y_pred = model9.predict(x_test)\n",
    "test_end_time=time.time()\n",
    "y_pred"
   ]
  },
  {
   "cell_type": "code",
   "execution_count": 9,
   "metadata": {},
   "outputs": [
    {
     "name": "stdout",
     "output_type": "stream",
     "text": [
      "Test accuracy: 0.44994804295116037\n"
     ]
    }
   ],
   "source": [
    "accuracy = accuracy_score(y_test, y_pred)\n",
    "print('Test accuracy:', accuracy)"
   ]
  },
  {
   "cell_type": "code",
   "execution_count": 10,
   "metadata": {},
   "outputs": [
    {
     "name": "stdout",
     "output_type": "stream",
     "text": [
      "              precision    recall  f1-score   support\n",
      "\n",
      "           0       0.00      0.00      0.00       411\n",
      "           1       0.20      0.11      0.14       427\n",
      "           2       0.62      0.67      0.64       472\n",
      "           3       0.86      1.00      0.93       440\n",
      "           4       0.26      0.21      0.23       480\n",
      "           5       0.30      0.59      0.40       458\n",
      "           6       1.00      1.00      1.00       105\n",
      "           7       0.09      0.21      0.12        94\n",
      "\n",
      "    accuracy                           0.45      2887\n",
      "   macro avg       0.42      0.47      0.43      2887\n",
      "weighted avg       0.39      0.45      0.41      2887\n",
      "\n"
     ]
    },
    {
     "name": "stderr",
     "output_type": "stream",
     "text": [
      "c:\\Python310\\lib\\site-packages\\sklearn\\metrics\\_classification.py:1318: UndefinedMetricWarning: Precision and F-score are ill-defined and being set to 0.0 in labels with no predicted samples. Use `zero_division` parameter to control this behavior.\n",
      "  _warn_prf(average, modifier, msg_start, len(result))\n",
      "c:\\Python310\\lib\\site-packages\\sklearn\\metrics\\_classification.py:1318: UndefinedMetricWarning: Precision and F-score are ill-defined and being set to 0.0 in labels with no predicted samples. Use `zero_division` parameter to control this behavior.\n",
      "  _warn_prf(average, modifier, msg_start, len(result))\n",
      "c:\\Python310\\lib\\site-packages\\sklearn\\metrics\\_classification.py:1318: UndefinedMetricWarning: Precision and F-score are ill-defined and being set to 0.0 in labels with no predicted samples. Use `zero_division` parameter to control this behavior.\n",
      "  _warn_prf(average, modifier, msg_start, len(result))\n"
     ]
    }
   ],
   "source": [
    "print(classification_report(y_test,y_pred))"
   ]
  },
  {
   "cell_type": "code",
   "execution_count": 11,
   "metadata": {},
   "outputs": [
    {
     "name": "stdout",
     "output_type": "stream",
     "text": [
      "Test accuracy: 0.44994804295116037\n",
      "Test precision: 0.4570595967961454\n",
      "Test recall: 0.5246365105008077\n",
      "Test F1 Score: 0.47723769779345065\n",
      "Train time:  0.003936290740966797  sec\n",
      "Test time:  0.0019948482513427734  sec\n"
     ]
    }
   ],
   "source": [
    "accuracy = accuracy_score(y_test, y_pred)\n",
    "precision = precision_score(y_test, y_pred, average='weighted', labels=np.unique(y_pred))\n",
    "recall = recall_score(y_test, y_pred, average='weighted', labels=np.unique(y_pred))\n",
    "f1Score = f1_score(y_test, y_pred, average='weighted', labels=np.unique(y_pred))\n",
    "print('Test accuracy:', accuracy)\n",
    "print('Test precision:', precision)\n",
    "print('Test recall:', recall)\n",
    "print('Test F1 Score:', f1Score)\n",
    "print('Train time: ', train_end_time-train_start_time, ' sec')\n",
    "print('Test time: ', test_end_time-test_start_time, ' sec')"
   ]
  }
 ],
 "metadata": {
  "interpreter": {
   "hash": "369f2c481f4da34e4445cda3fffd2e751bd1c4d706f27375911949ba6bb62e1c"
  },
  "kernelspec": {
   "display_name": "Python 3.10.0 64-bit",
   "language": "python",
   "name": "python3"
  },
  "language_info": {
   "codemirror_mode": {
    "name": "ipython",
    "version": 3
   },
   "file_extension": ".py",
   "mimetype": "text/x-python",
   "name": "python",
   "nbconvert_exporter": "python",
   "pygments_lexer": "ipython3",
   "version": "3.10.0"
  },
  "orig_nbformat": 4
 },
 "nbformat": 4,
 "nbformat_minor": 2
}

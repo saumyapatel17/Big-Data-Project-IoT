{
 "cells": [
  {
   "cell_type": "code",
   "execution_count": 1,
   "metadata": {},
   "outputs": [],
   "source": [
    "import numpy as np\n",
    "import pandas as pd\n",
    "from sklearn.preprocessing import LabelEncoder\n",
    "from sklearn.model_selection import train_test_split\n",
    "from tensorflow import keras\n",
    "from keras.models import load_model\n",
    "from sklearn.ensemble import VotingClassifier\n",
    "import pickle\n",
    "from keras.wrappers.scikit_learn import KerasClassifier\n",
    "from sklearn.metrics import classification_report, accuracy_score, f1_score, precision_score, recall_score\n",
    "import time"
   ]
  },
  {
   "cell_type": "code",
   "execution_count": 2,
   "metadata": {},
   "outputs": [
    {
     "data": {
      "text/html": [
       "<div>\n",
       "<style scoped>\n",
       "    .dataframe tbody tr th:only-of-type {\n",
       "        vertical-align: middle;\n",
       "    }\n",
       "\n",
       "    .dataframe tbody tr th {\n",
       "        vertical-align: top;\n",
       "    }\n",
       "\n",
       "    .dataframe thead th {\n",
       "        text-align: right;\n",
       "    }\n",
       "</style>\n",
       "<table border=\"1\" class=\"dataframe\">\n",
       "  <thead>\n",
       "    <tr style=\"text-align: right;\">\n",
       "      <th></th>\n",
       "      <th>date</th>\n",
       "      <th>time</th>\n",
       "      <th>latitude</th>\n",
       "      <th>longitude</th>\n",
       "      <th>label</th>\n",
       "      <th>type</th>\n",
       "    </tr>\n",
       "  </thead>\n",
       "  <tbody>\n",
       "    <tr>\n",
       "      <th>0</th>\n",
       "      <td>28-Apr-19</td>\n",
       "      <td>06:59:40</td>\n",
       "      <td>0.000000</td>\n",
       "      <td>10.000000</td>\n",
       "      <td>1</td>\n",
       "      <td>0</td>\n",
       "    </tr>\n",
       "    <tr>\n",
       "      <th>1</th>\n",
       "      <td>28-Apr-19</td>\n",
       "      <td>06:59:45</td>\n",
       "      <td>0.042174</td>\n",
       "      <td>10.110109</td>\n",
       "      <td>1</td>\n",
       "      <td>0</td>\n",
       "    </tr>\n",
       "    <tr>\n",
       "      <th>2</th>\n",
       "      <td>28-Apr-19</td>\n",
       "      <td>06:59:50</td>\n",
       "      <td>0.072267</td>\n",
       "      <td>10.154155</td>\n",
       "      <td>1</td>\n",
       "      <td>0</td>\n",
       "    </tr>\n",
       "    <tr>\n",
       "      <th>3</th>\n",
       "      <td>28-Apr-19</td>\n",
       "      <td>06:59:55</td>\n",
       "      <td>0.076575</td>\n",
       "      <td>10.183636</td>\n",
       "      <td>1</td>\n",
       "      <td>0</td>\n",
       "    </tr>\n",
       "    <tr>\n",
       "      <th>4</th>\n",
       "      <td>28-Apr-19</td>\n",
       "      <td>07:00:10</td>\n",
       "      <td>0.175216</td>\n",
       "      <td>10.389326</td>\n",
       "      <td>1</td>\n",
       "      <td>0</td>\n",
       "    </tr>\n",
       "  </tbody>\n",
       "</table>\n",
       "</div>"
      ],
      "text/plain": [
       "        date        time  latitude  longitude  label  type\n",
       "0  28-Apr-19   06:59:40   0.000000  10.000000      1     0\n",
       "1  28-Apr-19   06:59:45   0.042174  10.110109      1     0\n",
       "2  28-Apr-19   06:59:50   0.072267  10.154155      1     0\n",
       "3  28-Apr-19   06:59:55   0.076575  10.183636      1     0\n",
       "4  28-Apr-19   07:00:10   0.175216  10.389326      1     0"
      ]
     },
     "execution_count": 2,
     "metadata": {},
     "output_type": "execute_result"
    }
   ],
   "source": [
    "IoT = pd.read_csv('../../data/test_GPS_Tracker.csv')\n",
    "# IoT = IoT.iloc[0:500]\n",
    "\n",
    "IoT = IoT.dropna()\n",
    "\n",
    "encoder=LabelEncoder()\n",
    "IoT['type']=encoder.fit_transform(IoT['type'])\n",
    "\n",
    "\n",
    "IoT.head()"
   ]
  },
  {
   "cell_type": "code",
   "execution_count": 3,
   "metadata": {},
   "outputs": [],
   "source": [
    "x = IoT.drop(['label', 'date', 'time', 'type'], axis=1)\n",
    "y = IoT['type']\n",
    "\n",
    "features=len(x.columns)\n",
    "\n",
    "x_train,x_test,y_train,y_test = train_test_split(x, y, test_size=0.2)"
   ]
  },
  {
   "cell_type": "code",
   "execution_count": 4,
   "metadata": {},
   "outputs": [],
   "source": [
    "model3 = pickle.load(open('../h5s/random-forest.h5', 'rb'))\n",
    "model4 = pickle.load(open('../h5s/logistic-regression.h5', 'rb'))\n",
    "model5 = pickle.load(open('../h5s/linear-discriminant-analysis.h5', 'rb'))\n",
    "model6 = pickle.load(open('../h5s/kNN.h5', 'rb'))\n",
    "model7 = pickle.load(open('../h5s/CART.h5', 'rb'))\n",
    "model8 = pickle.load(open('../h5s/support-vector-machine.h5', 'rb'))\n",
    "model9 = pickle.load(open('../h5s/naive-bayes.h5', 'rb'))"
   ]
  },
  {
   "cell_type": "code",
   "execution_count": 5,
   "metadata": {},
   "outputs": [
    {
     "name": "stderr",
     "output_type": "stream",
     "text": [
      "c:\\Python310\\lib\\site-packages\\sklearn\\linear_model\\_logistic.py:814: ConvergenceWarning: lbfgs failed to converge (status=1):\n",
      "STOP: TOTAL NO. of ITERATIONS REACHED LIMIT.\n",
      "\n",
      "Increase the number of iterations (max_iter) or scale the data as shown in:\n",
      "    https://scikit-learn.org/stable/modules/preprocessing.html\n",
      "Please also refer to the documentation for alternative solver options:\n",
      "    https://scikit-learn.org/stable/modules/linear_model.html#logistic-regression\n",
      "  n_iter_i = _check_optimize_result(\n"
     ]
    },
    {
     "name": "stdout",
     "output_type": "stream",
     "text": [
      "RandomForestClassifier accuracy :  0.7970211291998615\n",
      "RandomForestClassifier precision :  0.7920082804199351\n",
      "RandomForestClassifier recall :  0.7970211291998615\n",
      "RandomForestClassifier f1_score :  0.7931102180392852\n",
      "RandomForestClassifier train time :  1.5081546306610107  sec\n",
      "RandomForestClassifier test time :  0.06833338737487793  sec\n",
      "\n",
      "\n"
     ]
    },
    {
     "name": "stderr",
     "output_type": "stream",
     "text": [
      "c:\\Python310\\lib\\site-packages\\sklearn\\linear_model\\_logistic.py:814: ConvergenceWarning: lbfgs failed to converge (status=1):\n",
      "STOP: TOTAL NO. of ITERATIONS REACHED LIMIT.\n",
      "\n",
      "Increase the number of iterations (max_iter) or scale the data as shown in:\n",
      "    https://scikit-learn.org/stable/modules/preprocessing.html\n",
      "Please also refer to the documentation for alternative solver options:\n",
      "    https://scikit-learn.org/stable/modules/linear_model.html#logistic-regression\n",
      "  n_iter_i = _check_optimize_result(\n"
     ]
    },
    {
     "name": "stdout",
     "output_type": "stream",
     "text": [
      "LogisticRegression accuracy :  0.4703844821614132\n",
      "LogisticRegression precision :  0.4759761999752547\n",
      "LogisticRegression recall :  0.4914947520810713\n",
      "LogisticRegression f1_score :  0.45295526201565667\n",
      "LogisticRegression train time :  0.6323099136352539  sec\n",
      "LogisticRegression test time :  0.002233743667602539  sec\n",
      "\n",
      "\n",
      "LinearDiscriminantAnalysis accuracy :  0.4471770003463803\n",
      "LinearDiscriminantAnalysis precision :  0.43593926147127127\n",
      "LinearDiscriminantAnalysis recall :  0.4672457473760405\n",
      "LinearDiscriminantAnalysis f1_score :  0.4155761290323867\n",
      "LinearDiscriminantAnalysis train time :  0.004986286163330078  sec\n",
      "LinearDiscriminantAnalysis test time :  0.000997781753540039  sec\n",
      "\n",
      "\n",
      "KNeighborsClassifier accuracy :  0.797367509525459\n",
      "KNeighborsClassifier precision :  0.8110559936583644\n",
      "KNeighborsClassifier recall :  0.797367509525459\n",
      "KNeighborsClassifier f1_score :  0.7911170555867874\n",
      "KNeighborsClassifier train time :  0.004985809326171875  sec\n",
      "KNeighborsClassifier test time :  0.06521487236022949  sec\n",
      "\n",
      "\n",
      "DecisionTreeClassifier accuracy :  0.7554554901281607\n",
      "DecisionTreeClassifier precision :  0.7534536025994131\n",
      "DecisionTreeClassifier recall :  0.7554554901281607\n",
      "DecisionTreeClassifier f1_score :  0.7542543847320388\n",
      "DecisionTreeClassifier train time :  0.04288649559020996  sec\n",
      "DecisionTreeClassifier test time :  0.0009548664093017578  sec\n",
      "\n",
      "\n",
      "SVC accuracy :  0.5039833737443713\n",
      "SVC precision :  0.6125301772343257\n",
      "SVC recall :  0.5266015200868621\n",
      "SVC f1_score :  0.49132057898793774\n",
      "SVC train time :  3.189579486846924  sec\n",
      "SVC test time :  2.227428436279297  sec\n",
      "\n",
      "\n",
      "GaussianNB accuracy :  0.46622791825424315\n",
      "GaussianNB precision :  0.45275453929726955\n",
      "GaussianNB recall :  0.5442782046097857\n",
      "GaussianNB f1_score :  0.4741811877506402\n",
      "GaussianNB train time :  0.003947257995605469  sec\n",
      "GaussianNB test time :  0.0009965896606445312  sec\n",
      "\n",
      "\n"
     ]
    },
    {
     "name": "stderr",
     "output_type": "stream",
     "text": [
      "c:\\Python310\\lib\\site-packages\\sklearn\\linear_model\\_logistic.py:814: ConvergenceWarning: lbfgs failed to converge (status=1):\n",
      "STOP: TOTAL NO. of ITERATIONS REACHED LIMIT.\n",
      "\n",
      "Increase the number of iterations (max_iter) or scale the data as shown in:\n",
      "    https://scikit-learn.org/stable/modules/preprocessing.html\n",
      "Please also refer to the documentation for alternative solver options:\n",
      "    https://scikit-learn.org/stable/modules/linear_model.html#logistic-regression\n",
      "  n_iter_i = _check_optimize_result(\n"
     ]
    },
    {
     "name": "stdout",
     "output_type": "stream",
     "text": [
      "VotingClassifier accuracy :  0.7076550051957049\n",
      "VotingClassifier precision :  0.7525022867478867\n",
      "VotingClassifier recall :  0.7076550051957049\n",
      "VotingClassifier f1_score :  0.6944102250733776\n",
      "VotingClassifier train time :  5.393240928649902  sec\n",
      "VotingClassifier test time :  2.3834264278411865  sec\n",
      "\n",
      "\n"
     ]
    }
   ],
   "source": [
    "voting = VotingClassifier(estimators=[('RF', model3), ('LR', model4), ('LDA', model5), ('KNN', model6), ('CART', model7), ('SVM', model8), ('Naive-Bayes', model9)], voting='hard')\n",
    "voting.fit(x_train, y_train) \n",
    "\n",
    "for clf in (model3, model4, model5, model6, model7, model8, model9, voting):\n",
    "    train_start_time=time.time()\n",
    "    clf.fit(x_train, y_train)\n",
    "    train_end_time=time.time()\n",
    "    test_start_time=time.time()\n",
    "    y_pred = clf.predict(x_test)\n",
    "    test_end_time=time.time()\n",
    "    print(clf.__class__.__name__, 'accuracy : ', accuracy_score(y_test, y_pred))\n",
    "    print(clf.__class__.__name__, 'precision : ', precision_score(y_test, y_pred, average='weighted', labels=np.unique(y_pred)))\n",
    "    print(clf.__class__.__name__, 'recall : ', recall_score(y_test, y_pred, average='weighted', labels=np.unique(y_pred)))\n",
    "    print(clf.__class__.__name__, 'f1_score : ', f1_score(y_test, y_pred, average='weighted', labels=np.unique(y_pred)))\n",
    "    print(clf.__class__.__name__, 'train time : ', train_end_time-train_start_time, ' sec')\n",
    "    print(clf.__class__.__name__, 'test time : ', test_end_time-test_start_time, ' sec')\n",
    "    print('\\n')"
   ]
  },
  {
   "cell_type": "code",
   "execution_count": 6,
   "metadata": {},
   "outputs": [
    {
     "name": "stderr",
     "output_type": "stream",
     "text": [
      "c:\\Python310\\lib\\site-packages\\sklearn\\linear_model\\_logistic.py:814: ConvergenceWarning: lbfgs failed to converge (status=1):\n",
      "STOP: TOTAL NO. of ITERATIONS REACHED LIMIT.\n",
      "\n",
      "Increase the number of iterations (max_iter) or scale the data as shown in:\n",
      "    https://scikit-learn.org/stable/modules/preprocessing.html\n",
      "Please also refer to the documentation for alternative solver options:\n",
      "    https://scikit-learn.org/stable/modules/linear_model.html#logistic-regression\n",
      "  n_iter_i = _check_optimize_result(\n"
     ]
    },
    {
     "name": "stdout",
     "output_type": "stream",
     "text": [
      "SVC accuracy :  0.5039833737443713\n",
      "SVC precision :  0.6125301772343257\n",
      "SVC recall :  0.5266015200868621\n",
      "SVC f1_score :  0.49132057898793774\n",
      "SVC train time :  3.1366217136383057  sec\n",
      "SVC test time :  2.231703996658325  sec\n",
      "\n",
      "\n",
      "GaussianNB accuracy :  0.46622791825424315\n",
      "GaussianNB precision :  0.45275453929726955\n",
      "GaussianNB recall :  0.5442782046097857\n",
      "GaussianNB f1_score :  0.4741811877506402\n",
      "GaussianNB train time :  0.0029921531677246094  sec\n",
      "GaussianNB test time :  0.0019948482513427734  sec\n",
      "\n",
      "\n",
      "RandomForestClassifier accuracy :  0.799445791479044\n",
      "RandomForestClassifier precision :  0.7945725856580906\n",
      "RandomForestClassifier recall :  0.799445791479044\n",
      "RandomForestClassifier f1_score :  0.7957812292109224\n",
      "RandomForestClassifier train time :  1.5241215229034424  sec\n",
      "RandomForestClassifier test time :  0.06634736061096191  sec\n",
      "\n",
      "\n"
     ]
    },
    {
     "name": "stderr",
     "output_type": "stream",
     "text": [
      "c:\\Python310\\lib\\site-packages\\sklearn\\linear_model\\_logistic.py:814: ConvergenceWarning: lbfgs failed to converge (status=1):\n",
      "STOP: TOTAL NO. of ITERATIONS REACHED LIMIT.\n",
      "\n",
      "Increase the number of iterations (max_iter) or scale the data as shown in:\n",
      "    https://scikit-learn.org/stable/modules/preprocessing.html\n",
      "Please also refer to the documentation for alternative solver options:\n",
      "    https://scikit-learn.org/stable/modules/linear_model.html#logistic-regression\n",
      "  n_iter_i = _check_optimize_result(\n"
     ]
    },
    {
     "name": "stdout",
     "output_type": "stream",
     "text": [
      "LogisticRegression accuracy :  0.4703844821614132\n",
      "LogisticRegression precision :  0.4759761999752547\n",
      "LogisticRegression recall :  0.4914947520810713\n",
      "LogisticRegression f1_score :  0.45295526201565667\n",
      "LogisticRegression train time :  0.6339592933654785  sec\n",
      "LogisticRegression test time :  0.001994609832763672  sec\n",
      "\n",
      "\n",
      "LinearDiscriminantAnalysis accuracy :  0.4471770003463803\n",
      "LinearDiscriminantAnalysis precision :  0.43593926147127127\n",
      "LinearDiscriminantAnalysis recall :  0.4672457473760405\n",
      "LinearDiscriminantAnalysis f1_score :  0.4155761290323867\n",
      "LinearDiscriminantAnalysis train time :  0.005984306335449219  sec\n",
      "LinearDiscriminantAnalysis test time :  0.0009970664978027344  sec\n",
      "\n",
      "\n",
      "KNeighborsClassifier accuracy :  0.797367509525459\n",
      "KNeighborsClassifier precision :  0.8110559936583644\n",
      "KNeighborsClassifier recall :  0.797367509525459\n",
      "KNeighborsClassifier f1_score :  0.7911170555867874\n",
      "KNeighborsClassifier train time :  0.00498652458190918  sec\n",
      "KNeighborsClassifier test time :  0.061792850494384766  sec\n",
      "\n",
      "\n",
      "DecisionTreeClassifier accuracy :  0.7526844475233807\n",
      "DecisionTreeClassifier precision :  0.7508438078747707\n",
      "DecisionTreeClassifier recall :  0.7526844475233807\n",
      "DecisionTreeClassifier f1_score :  0.7515483439390813\n",
      "DecisionTreeClassifier train time :  0.04288482666015625  sec\n",
      "DecisionTreeClassifier test time :  0.001995563507080078  sec\n",
      "\n",
      "\n"
     ]
    },
    {
     "name": "stderr",
     "output_type": "stream",
     "text": [
      "c:\\Python310\\lib\\site-packages\\sklearn\\linear_model\\_logistic.py:814: ConvergenceWarning: lbfgs failed to converge (status=1):\n",
      "STOP: TOTAL NO. of ITERATIONS REACHED LIMIT.\n",
      "\n",
      "Increase the number of iterations (max_iter) or scale the data as shown in:\n",
      "    https://scikit-learn.org/stable/modules/preprocessing.html\n",
      "Please also refer to the documentation for alternative solver options:\n",
      "    https://scikit-learn.org/stable/modules/linear_model.html#logistic-regression\n",
      "  n_iter_i = _check_optimize_result(\n"
     ]
    },
    {
     "name": "stdout",
     "output_type": "stream",
     "text": [
      "VotingClassifier accuracy :  0.7055767232421198\n",
      "VotingClassifier precision :  0.7519920411294052\n",
      "VotingClassifier recall :  0.7055767232421198\n",
      "VotingClassifier f1_score :  0.6932891779898297\n",
      "VotingClassifier train time :  5.287621736526489  sec\n",
      "VotingClassifier test time :  2.397268533706665  sec\n",
      "\n",
      "\n"
     ]
    }
   ],
   "source": [
    "voting = VotingClassifier(estimators=[('SVM', model8), ('Naive-Bayes', model9), ('RF', model3), ('LR', model4), ('LDA', model5), ('KNN', model6), ('CART', model7)], voting='hard')\n",
    "voting.fit(x_train, y_train) \n",
    "\n",
    "for clf in (model8, model9, model3, model4, model5, model6, model7, voting):\n",
    "    train_start_time=time.time()\n",
    "    clf.fit(x_train, y_train)\n",
    "    train_end_time=time.time()\n",
    "    test_start_time=time.time()\n",
    "    y_pred = clf.predict(x_test)\n",
    "    test_end_time=time.time()\n",
    "    print(clf.__class__.__name__, 'accuracy : ', accuracy_score(y_test, y_pred))\n",
    "    print(clf.__class__.__name__, 'precision : ', precision_score(y_test, y_pred, average='weighted', labels=np.unique(y_pred)))\n",
    "    print(clf.__class__.__name__, 'recall : ', recall_score(y_test, y_pred, average='weighted', labels=np.unique(y_pred)))\n",
    "    print(clf.__class__.__name__, 'f1_score : ', f1_score(y_test, y_pred, average='weighted', labels=np.unique(y_pred)))\n",
    "    print(clf.__class__.__name__, 'train time : ', train_end_time-train_start_time, ' sec')\n",
    "    print(clf.__class__.__name__, 'test time : ', test_end_time-test_start_time, ' sec')\n",
    "    print('\\n')"
   ]
  },
  {
   "cell_type": "code",
   "execution_count": 8,
   "metadata": {},
   "outputs": [
    {
     "name": "stderr",
     "output_type": "stream",
     "text": [
      "c:\\Python310\\lib\\site-packages\\sklearn\\linear_model\\_logistic.py:814: ConvergenceWarning: lbfgs failed to converge (status=1):\n",
      "STOP: TOTAL NO. of ITERATIONS REACHED LIMIT.\n",
      "\n",
      "Increase the number of iterations (max_iter) or scale the data as shown in:\n",
      "    https://scikit-learn.org/stable/modules/preprocessing.html\n",
      "Please also refer to the documentation for alternative solver options:\n",
      "    https://scikit-learn.org/stable/modules/linear_model.html#logistic-regression\n",
      "  n_iter_i = _check_optimize_result(\n"
     ]
    },
    {
     "name": "stdout",
     "output_type": "stream",
     "text": [
      "DecisionTreeClassifier accuracy :  0.7561482507793558\n",
      "DecisionTreeClassifier precision :  0.7539243101033651\n",
      "DecisionTreeClassifier recall :  0.7561482507793558\n",
      "DecisionTreeClassifier f1_score :  0.7547367461591759\n",
      "DecisionTreeClassifier train time :  0.04782867431640625  sec\n",
      "DecisionTreeClassifier test time :  0.0009975433349609375  sec\n",
      "\n",
      "\n"
     ]
    },
    {
     "name": "stderr",
     "output_type": "stream",
     "text": [
      "c:\\Python310\\lib\\site-packages\\sklearn\\linear_model\\_logistic.py:814: ConvergenceWarning: lbfgs failed to converge (status=1):\n",
      "STOP: TOTAL NO. of ITERATIONS REACHED LIMIT.\n",
      "\n",
      "Increase the number of iterations (max_iter) or scale the data as shown in:\n",
      "    https://scikit-learn.org/stable/modules/preprocessing.html\n",
      "Please also refer to the documentation for alternative solver options:\n",
      "    https://scikit-learn.org/stable/modules/linear_model.html#logistic-regression\n",
      "  n_iter_i = _check_optimize_result(\n"
     ]
    },
    {
     "name": "stdout",
     "output_type": "stream",
     "text": [
      "LogisticRegression accuracy :  0.4703844821614132\n",
      "LogisticRegression precision :  0.4759761999752547\n",
      "LogisticRegression recall :  0.4914947520810713\n",
      "LogisticRegression f1_score :  0.45295526201565667\n",
      "LogisticRegression train time :  0.4198770523071289  sec\n",
      "LogisticRegression test time :  0.0019948482513427734  sec\n",
      "\n",
      "\n",
      "SVC accuracy :  0.5039833737443713\n",
      "SVC precision :  0.6125301772343257\n",
      "SVC recall :  0.5266015200868621\n",
      "SVC f1_score :  0.49132057898793774\n",
      "SVC train time :  4.962207078933716  sec\n",
      "SVC test time :  2.263742685317993  sec\n",
      "\n",
      "\n",
      "GaussianNB accuracy :  0.46622791825424315\n",
      "GaussianNB precision :  0.45275453929726955\n",
      "GaussianNB recall :  0.5442782046097857\n",
      "GaussianNB f1_score :  0.4741811877506402\n",
      "GaussianNB train time :  0.003989458084106445  sec\n",
      "GaussianNB test time :  0.0009980201721191406  sec\n",
      "\n",
      "\n",
      "RandomForestClassifier accuracy :  0.7945964669206789\n",
      "RandomForestClassifier precision :  0.7898619641517111\n",
      "RandomForestClassifier recall :  0.7945964669206789\n",
      "RandomForestClassifier f1_score :  0.791044723236548\n",
      "RandomForestClassifier train time :  1.499396562576294  sec\n",
      "RandomForestClassifier test time :  0.06486964225769043  sec\n",
      "\n",
      "\n",
      "LinearDiscriminantAnalysis accuracy :  0.4471770003463803\n",
      "LinearDiscriminantAnalysis precision :  0.43593926147127127\n",
      "LinearDiscriminantAnalysis recall :  0.4672457473760405\n",
      "LinearDiscriminantAnalysis f1_score :  0.4155761290323867\n",
      "LinearDiscriminantAnalysis train time :  0.005998134613037109  sec\n",
      "LinearDiscriminantAnalysis test time :  0.0010445117950439453  sec\n",
      "\n",
      "\n",
      "KNeighborsClassifier accuracy :  0.797367509525459\n",
      "KNeighborsClassifier precision :  0.8110559936583644\n",
      "KNeighborsClassifier recall :  0.797367509525459\n",
      "KNeighborsClassifier f1_score :  0.7911170555867874\n",
      "KNeighborsClassifier train time :  0.00494384765625  sec\n",
      "KNeighborsClassifier test time :  0.061878204345703125  sec\n",
      "\n",
      "\n"
     ]
    },
    {
     "name": "stderr",
     "output_type": "stream",
     "text": [
      "c:\\Python310\\lib\\site-packages\\sklearn\\linear_model\\_logistic.py:814: ConvergenceWarning: lbfgs failed to converge (status=1):\n",
      "STOP: TOTAL NO. of ITERATIONS REACHED LIMIT.\n",
      "\n",
      "Increase the number of iterations (max_iter) or scale the data as shown in:\n",
      "    https://scikit-learn.org/stable/modules/preprocessing.html\n",
      "Please also refer to the documentation for alternative solver options:\n",
      "    https://scikit-learn.org/stable/modules/linear_model.html#logistic-regression\n",
      "  n_iter_i = _check_optimize_result(\n"
     ]
    },
    {
     "name": "stdout",
     "output_type": "stream",
     "text": [
      "VotingClassifier accuracy :  0.7045375822653274\n",
      "VotingClassifier precision :  0.7487871981760118\n",
      "VotingClassifier recall :  0.7045375822653274\n",
      "VotingClassifier f1_score :  0.6906656640132017\n",
      "VotingClassifier train time :  5.567991495132446  sec\n",
      "VotingClassifier test time :  2.56217885017395  sec\n",
      "\n",
      "\n"
     ]
    }
   ],
   "source": [
    "voting = VotingClassifier(estimators=[('CART', model7), ('LR', model4), ('SVM', model8), ('Naive-Bayes', model9), ('RF', model3), ('LDA', model5), ('KNN', model6)], voting='hard')\n",
    "voting.fit(x_train, y_train) \n",
    "\n",
    "for clf in (model7, model4, model8, model9, model3, model5, model6,  voting):\n",
    "    train_start_time=time.time()\n",
    "    clf.fit(x_train, y_train)\n",
    "    train_end_time=time.time()\n",
    "    test_start_time=time.time()\n",
    "    y_pred = clf.predict(x_test)\n",
    "    test_end_time=time.time()\n",
    "    print(clf.__class__.__name__, 'accuracy : ', accuracy_score(y_test, y_pred))\n",
    "    print(clf.__class__.__name__, 'precision : ', precision_score(y_test, y_pred, average='weighted', labels=np.unique(y_pred)))\n",
    "    print(clf.__class__.__name__, 'recall : ', recall_score(y_test, y_pred, average='weighted', labels=np.unique(y_pred)))\n",
    "    print(clf.__class__.__name__, 'f1_score : ', f1_score(y_test, y_pred, average='weighted', labels=np.unique(y_pred)))\n",
    "    print(clf.__class__.__name__, 'train time : ', train_end_time-train_start_time, ' sec')\n",
    "    print(clf.__class__.__name__, 'test time : ', test_end_time-test_start_time, ' sec')\n",
    "    print('\\n')"
   ]
  }
 ],
 "metadata": {
  "interpreter": {
   "hash": "369f2c481f4da34e4445cda3fffd2e751bd1c4d706f27375911949ba6bb62e1c"
  },
  "kernelspec": {
   "display_name": "Python 3.10.0 64-bit",
   "language": "python",
   "name": "python3"
  },
  "language_info": {
   "codemirror_mode": {
    "name": "ipython",
    "version": 3
   },
   "file_extension": ".py",
   "mimetype": "text/x-python",
   "name": "python",
   "nbconvert_exporter": "python",
   "pygments_lexer": "ipython3",
   "version": "3.10.0"
  },
  "orig_nbformat": 4
 },
 "nbformat": 4,
 "nbformat_minor": 2
}

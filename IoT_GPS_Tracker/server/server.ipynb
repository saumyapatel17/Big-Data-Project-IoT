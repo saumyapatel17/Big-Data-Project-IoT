{
 "cells": [
  {
   "cell_type": "markdown",
   "metadata": {},
   "source": [
    "### Server Setup\n",
    "\n",
    "Creating a stream of data & sending it to the clients.\n",
    "\n",
    "<br>\n",
    "<br>"
   ]
  },
  {
   "cell_type": "code",
   "execution_count": 1,
   "metadata": {},
   "outputs": [],
   "source": [
    "# to specify delay between two consecutive records in stream\n",
    "DELAY = 0.1"
   ]
  },
  {
   "cell_type": "code",
   "execution_count": 2,
   "metadata": {},
   "outputs": [],
   "source": [
    "# Importing required modules\n",
    "\n",
    "# data streaming\n",
    "import asyncio\n",
    "import websockets\n",
    "from time import sleep\n",
    "\n",
    "# data processing\n",
    "import pandas as pd\n",
    "from sklearn.preprocessing import LabelEncoder"
   ]
  },
  {
   "cell_type": "code",
   "execution_count": 3,
   "metadata": {},
   "outputs": [],
   "source": [
    "# Read csv files of merged data\n",
    "\n",
    "# # original data\n",
    "# data = pd.read_csv(\"../data/IoT_Garage_Door.csv\", low_memory=False)\n",
    "\n",
    "# test data for presentation purpose\n",
    "data = pd.read_csv(\"../data/test_garage_stream.csv\", low_memory=False)"
   ]
  },
  {
   "cell_type": "code",
   "execution_count": 4,
   "metadata": {},
   "outputs": [],
   "source": [
    "# dropping NaN or NA values\n",
    "data = data.dropna()\n",
    "\n",
    "# encoding string type variables to numeric type (required for model training)\n",
    "encoder=LabelEncoder()\n",
    "data['type']=encoder.fit_transform(data['type'])\n",
    "data['state']=encoder.fit_transform(data['state'])\n",
    "data['sphone_signal']=encoder.fit_transform(data['sphone_signal'])"
   ]
  },
  {
   "cell_type": "code",
   "execution_count": 5,
   "metadata": {},
   "outputs": [
    {
     "data": {
      "text/html": [
       "<div>\n",
       "<style scoped>\n",
       "    .dataframe tbody tr th:only-of-type {\n",
       "        vertical-align: middle;\n",
       "    }\n",
       "\n",
       "    .dataframe tbody tr th {\n",
       "        vertical-align: top;\n",
       "    }\n",
       "\n",
       "    .dataframe thead th {\n",
       "        text-align: right;\n",
       "    }\n",
       "</style>\n",
       "<table border=\"1\" class=\"dataframe\">\n",
       "  <thead>\n",
       "    <tr style=\"text-align: right;\">\n",
       "      <th></th>\n",
       "      <th>date</th>\n",
       "      <th>time</th>\n",
       "      <th>state</th>\n",
       "      <th>sphone_signal</th>\n",
       "      <th>label</th>\n",
       "      <th>type</th>\n",
       "    </tr>\n",
       "  </thead>\n",
       "  <tbody>\n",
       "    <tr>\n",
       "      <th>0</th>\n",
       "      <td>1-Apr-19</td>\n",
       "      <td>20:53:44</td>\n",
       "      <td>1</td>\n",
       "      <td>1</td>\n",
       "      <td>0</td>\n",
       "      <td>3</td>\n",
       "    </tr>\n",
       "    <tr>\n",
       "      <th>1</th>\n",
       "      <td>1-Apr-19</td>\n",
       "      <td>20:53:49</td>\n",
       "      <td>0</td>\n",
       "      <td>0</td>\n",
       "      <td>0</td>\n",
       "      <td>3</td>\n",
       "    </tr>\n",
       "    <tr>\n",
       "      <th>2</th>\n",
       "      <td>1-Apr-19</td>\n",
       "      <td>20:53:49</td>\n",
       "      <td>1</td>\n",
       "      <td>1</td>\n",
       "      <td>0</td>\n",
       "      <td>3</td>\n",
       "    </tr>\n",
       "    <tr>\n",
       "      <th>3</th>\n",
       "      <td>1-Apr-19</td>\n",
       "      <td>20:53:54</td>\n",
       "      <td>0</td>\n",
       "      <td>0</td>\n",
       "      <td>0</td>\n",
       "      <td>3</td>\n",
       "    </tr>\n",
       "    <tr>\n",
       "      <th>4</th>\n",
       "      <td>1-Apr-19</td>\n",
       "      <td>20:53:54</td>\n",
       "      <td>1</td>\n",
       "      <td>1</td>\n",
       "      <td>0</td>\n",
       "      <td>3</td>\n",
       "    </tr>\n",
       "  </tbody>\n",
       "</table>\n",
       "</div>"
      ],
      "text/plain": [
       "       date      time  state  sphone_signal  label  type\n",
       "0  1-Apr-19  20:53:44      1              1      0     3\n",
       "1  1-Apr-19  20:53:49      0              0      0     3\n",
       "2  1-Apr-19  20:53:49      1              1      0     3\n",
       "3  1-Apr-19  20:53:54      0              0      0     3\n",
       "4  1-Apr-19  20:53:54      1              1      0     3"
      ]
     },
     "execution_count": 5,
     "metadata": {},
     "output_type": "execute_result"
    }
   ],
   "source": [
    "data.head()"
   ]
  },
  {
   "cell_type": "code",
   "execution_count": 6,
   "metadata": {},
   "outputs": [
    {
     "name": "stderr",
     "output_type": "stream",
     "text": [
      "connection handler failed\n",
      "Traceback (most recent call last):\n",
      "  File \"/usr/local/lib/python3.10/dist-packages/websockets/legacy/server.py\", line 232, in handler\n",
      "    await self.ws_handler(self)\n",
      "  File \"/tmp/ipykernel_29757/618672361.py\", line 19, in server\n",
      "    await websocket.send(rows[c])\n",
      "  File \"/usr/local/lib/python3.10/dist-packages/websockets/legacy/protocol.py\", line 620, in send\n",
      "    await self.ensure_open()\n",
      "  File \"/usr/local/lib/python3.10/dist-packages/websockets/legacy/protocol.py\", line 930, in ensure_open\n",
      "    raise self.connection_closed_exc()\n",
      "websockets.exceptions.ConnectionClosedOK: sent 1001 (going away); then received 1001 (going away)\n"
     ]
    },
    {
     "ename": "CancelledError",
     "evalue": "",
     "output_type": "error",
     "traceback": [
      "\u001b[0;31m---------------------------------------------------------------------------\u001b[0m",
      "\u001b[0;31mCancelledError\u001b[0m                            Traceback (most recent call last)",
      "\u001b[1;32m/mnt/DATA/Semester VI/CS1312 Big Data Engineering (IBM)/Project/Big Data Project/IoT_Garage_Door/server/server.ipynb Cell 7'\u001b[0m in \u001b[0;36m<cell line: 33>\u001b[0;34m()\u001b[0m\n\u001b[1;32m     <a href='vscode-notebook-cell:/mnt/DATA/Semester%20VI/CS1312%20Big%20Data%20Engineering%20%28IBM%29/Project/Big%20Data%20Project/IoT_Garage_Door/server/server.ipynb#ch0000006?line=29'>30</a>\u001b[0m     \u001b[39masync\u001b[39;00m \u001b[39mwith\u001b[39;00m websockets\u001b[39m.\u001b[39mserve(server, \u001b[39m\"\u001b[39m\u001b[39mlocalhost\u001b[39m\u001b[39m\"\u001b[39m, \u001b[39m8765\u001b[39m, ping_interval\u001b[39m=\u001b[39m\u001b[39mNone\u001b[39;00m):\n\u001b[1;32m     <a href='vscode-notebook-cell:/mnt/DATA/Semester%20VI/CS1312%20Big%20Data%20Engineering%20%28IBM%29/Project/Big%20Data%20Project/IoT_Garage_Door/server/server.ipynb#ch0000006?line=30'>31</a>\u001b[0m         \u001b[39mawait\u001b[39;00m asyncio\u001b[39m.\u001b[39mFuture()  \u001b[39m# run forever\u001b[39;00m\n\u001b[0;32m---> <a href='vscode-notebook-cell:/mnt/DATA/Semester%20VI/CS1312%20Big%20Data%20Engineering%20%28IBM%29/Project/Big%20Data%20Project/IoT_Garage_Door/server/server.ipynb#ch0000006?line=32'>33</a>\u001b[0m \u001b[39mawait\u001b[39;00m main()\n",
      "\u001b[1;32m/mnt/DATA/Semester VI/CS1312 Big Data Engineering (IBM)/Project/Big Data Project/IoT_Garage_Door/server/server.ipynb Cell 7'\u001b[0m in \u001b[0;36mmain\u001b[0;34m()\u001b[0m\n\u001b[1;32m     <a href='vscode-notebook-cell:/mnt/DATA/Semester%20VI/CS1312%20Big%20Data%20Engineering%20%28IBM%29/Project/Big%20Data%20Project/IoT_Garage_Door/server/server.ipynb#ch0000006?line=28'>29</a>\u001b[0m \u001b[39masync\u001b[39;00m \u001b[39mdef\u001b[39;00m \u001b[39mmain\u001b[39m():\n\u001b[1;32m     <a href='vscode-notebook-cell:/mnt/DATA/Semester%20VI/CS1312%20Big%20Data%20Engineering%20%28IBM%29/Project/Big%20Data%20Project/IoT_Garage_Door/server/server.ipynb#ch0000006?line=29'>30</a>\u001b[0m     \u001b[39masync\u001b[39;00m \u001b[39mwith\u001b[39;00m websockets\u001b[39m.\u001b[39mserve(server, \u001b[39m\"\u001b[39m\u001b[39mlocalhost\u001b[39m\u001b[39m\"\u001b[39m, \u001b[39m8765\u001b[39m, ping_interval\u001b[39m=\u001b[39m\u001b[39mNone\u001b[39;00m):\n\u001b[0;32m---> <a href='vscode-notebook-cell:/mnt/DATA/Semester%20VI/CS1312%20Big%20Data%20Engineering%20%28IBM%29/Project/Big%20Data%20Project/IoT_Garage_Door/server/server.ipynb#ch0000006?line=30'>31</a>\u001b[0m         \u001b[39mawait\u001b[39;00m asyncio\u001b[39m.\u001b[39mFuture()\n",
      "\u001b[0;31mCancelledError\u001b[0m: "
     ]
    }
   ],
   "source": [
    "async def server(websocket):\n",
    "    \"\"\"\n",
    "    Server function to stream data row-wise in a comma separated string format.\n",
    "    \"\"\"\n",
    "\n",
    "    # convert a row to space(\" \") separated string format\n",
    "    temp = data.to_string(header=False,index=False,\n",
    "                  index_names=False).split('\\n')\n",
    "\n",
    "    # now convert above row to comma(\",\") separated string format\n",
    "    rows = [','.join(ele.split()) for ele in temp]\n",
    "    \n",
    "    c=0    # variable to keep track of number of records sent\n",
    "\n",
    "    # while 'c' is less than & equal to total number of records in dataset\n",
    "    # this loop is responsible for creating data stream\n",
    "    while(len(data)>c):\n",
    "        # send stringified row to the client\n",
    "        await websocket.send(rows[c])\n",
    "\n",
    "        # wait of acknowledgement\n",
    "        ok = await websocket.recv()\n",
    "        if(bool(ok)):\n",
    "            c+=1    # if successfully received then increment 'c' by 1\n",
    "        \n",
    "        # add artificial delay to simulate a remote server client setup having communication delays due to network traffic\n",
    "        sleep(DELAY)\n",
    "\n",
    "async def main():\n",
    "    async with websockets.serve(server, \"localhost\", 8765, ping_interval=None):\n",
    "        await asyncio.Future()  # run forever\n",
    "\n",
    "await main()"
   ]
  },
  {
   "cell_type": "markdown",
   "metadata": {},
   "source": [
    "<br>\n",
    "<br>\n",
    "<center><b>End of File</b></center>"
   ]
  }
 ],
 "metadata": {
  "kernelspec": {
   "display_name": "Python 3.10.4 64-bit",
   "language": "python",
   "name": "python3"
  },
  "language_info": {
   "codemirror_mode": {
    "name": "ipython",
    "version": 3
   },
   "file_extension": ".py",
   "mimetype": "text/x-python",
   "name": "python",
   "nbconvert_exporter": "python",
   "pygments_lexer": "ipython3",
   "version": "3.10.4"
  },
  "orig_nbformat": 4,
  "vscode": {
   "interpreter": {
    "hash": "916dbcbb3f70747c44a77c7bcd40155683ae19c65e1c03b4aa3499c5328201f1"
   }
  }
 },
 "nbformat": 4,
 "nbformat_minor": 2
}

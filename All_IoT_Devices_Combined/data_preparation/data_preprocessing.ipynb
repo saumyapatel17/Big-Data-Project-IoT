{
 "cells": [
  {
   "cell_type": "markdown",
   "metadata": {},
   "source": [
    "### Data Cleaning and Preprocessing\n",
    "1. Dropping NaN values\n",
    "2. Converting variables to appropriate data types\n",
    "3. Grouping data by `date-time` and keeping mode value. Final intended output is uniquely timestamped records.\n",
    "\n",
    "<br>\n",
    "<br>\n",
    "<br>"
   ]
  },
  {
   "cell_type": "code",
   "execution_count": 1,
   "metadata": {},
   "outputs": [],
   "source": [
    "# Importing required modules\n",
    "\n",
    "import pandas as pd\n",
    "from datetime import datetime"
   ]
  },
  {
   "cell_type": "code",
   "execution_count": 2,
   "metadata": {},
   "outputs": [],
   "source": [
    "# Reading csv files of raw data for all IoT devices\n",
    "\n",
    "IoT_Fridge = pd.read_csv(\"./raw_data/IoT_Fridge.csv\", low_memory=False)\n",
    "IoT_Garage_Door = pd.read_csv(\"./raw_data/IoT_Garage_Door.csv\", low_memory=False)\n",
    "IoT_Motion_Light = pd.read_csv(\"./raw_data/IoT_Motion_Light.csv\", low_memory=False)\n",
    "IoT_GPS_Tracker = pd.read_csv(\"./raw_data/IoT_GPS_Tracker.csv\", low_memory=False)\n",
    "IoT_Modbus = pd.read_csv(\"./raw_data/IoT_Modbus.csv\", low_memory=False)\n",
    "IoT_Motion_Light = pd.read_csv(\"./raw_data/IoT_Motion_Light.csv\", low_memory=False)\n",
    "IoT_Thermostat = pd.read_csv(\"./raw_data/IoT_Thermostat.csv\", low_memory=False)\n",
    "IoT_Weather = pd.read_csv(\"./raw_data/IoT_Weather.csv\", low_memory=False)\n"
   ]
  },
  {
   "cell_type": "code",
   "execution_count": 3,
   "metadata": {},
   "outputs": [
    {
     "name": "stdout",
     "output_type": "stream",
     "text": [
      "fridge_temperature              Float64\n",
      "fridge_temp_condition            string\n",
      "fridge_label                      Int64\n",
      "fridge_type                      string\n",
      "date-time                datetime64[ns]\n",
      "dtype: object\n",
      "\n",
      "\n",
      "door_state                    string\n",
      "door_sphone_signal           boolean\n",
      "door_label                     Int64\n",
      "door_type                     string\n",
      "date-time             datetime64[ns]\n",
      "dtype: object\n",
      "\n",
      "\n",
      "gps_latitude            Float64\n",
      "gps_longitude           Float64\n",
      "gps_label                 Int64\n",
      "gps_type                 string\n",
      "date-time        datetime64[ns]\n",
      "dtype: object\n",
      "\n",
      "\n",
      "modbus_FC1_Read_Input_Register               Int64\n",
      "modbus_FC2_Read_Discrete_Value               Int64\n",
      "modbus_FC3_Read_Holding_Register             Int64\n",
      "modbus_FC4_Read_Coil                         Int64\n",
      "modbus_label                                 Int64\n",
      "modbus_type                                 string\n",
      "date-time                           datetime64[ns]\n",
      "dtype: object\n"
     ]
    },
    {
     "ename": "KeyboardInterrupt",
     "evalue": "",
     "output_type": "error",
     "traceback": [
      "\u001b[1;31m---------------------------------------------------------------------------\u001b[0m",
      "\u001b[1;31mKeyboardInterrupt\u001b[0m                         Traceback (most recent call last)",
      "\u001b[1;32mc:\\Users\\saumy\\Desktop\\Big-Data-Project-IoT\\All_IoT_Devices_Combined\\data_preparation\\data_preprocessing.ipynb Cell 4'\u001b[0m in \u001b[0;36m<cell line: 39>\u001b[1;34m()\u001b[0m\n\u001b[0;32m     <a href='vscode-notebook-cell:/c%3A/Users/saumy/Desktop/Big-Data-Project-IoT/All_IoT_Devices_Combined/data_preparation/data_preprocessing.ipynb#ch0000003?line=36'>37</a>\u001b[0m processData(IoT_Garage_Door, \u001b[39m\"\u001b[39m\u001b[39mIoT_Garage_Door\u001b[39m\u001b[39m\"\u001b[39m)\n\u001b[0;32m     <a href='vscode-notebook-cell:/c%3A/Users/saumy/Desktop/Big-Data-Project-IoT/All_IoT_Devices_Combined/data_preparation/data_preprocessing.ipynb#ch0000003?line=37'>38</a>\u001b[0m processData(IoT_GPS_Tracker, \u001b[39m\"\u001b[39m\u001b[39mIoT_GPS_Tracker\u001b[39m\u001b[39m\"\u001b[39m)\n\u001b[1;32m---> <a href='vscode-notebook-cell:/c%3A/Users/saumy/Desktop/Big-Data-Project-IoT/All_IoT_Devices_Combined/data_preparation/data_preprocessing.ipynb#ch0000003?line=38'>39</a>\u001b[0m processData(IoT_Modbus, \u001b[39m\"\u001b[39;49m\u001b[39mIoT_Modbus\u001b[39;49m\u001b[39m\"\u001b[39;49m)\n\u001b[0;32m     <a href='vscode-notebook-cell:/c%3A/Users/saumy/Desktop/Big-Data-Project-IoT/All_IoT_Devices_Combined/data_preparation/data_preprocessing.ipynb#ch0000003?line=39'>40</a>\u001b[0m processData(IoT_Motion_Light, \u001b[39m\"\u001b[39m\u001b[39mIoT_Motion_Light\u001b[39m\u001b[39m\"\u001b[39m)\n\u001b[0;32m     <a href='vscode-notebook-cell:/c%3A/Users/saumy/Desktop/Big-Data-Project-IoT/All_IoT_Devices_Combined/data_preparation/data_preprocessing.ipynb#ch0000003?line=40'>41</a>\u001b[0m processData(IoT_Thermostat, \u001b[39m\"\u001b[39m\u001b[39mIoT_Thermostat\u001b[39m\u001b[39m\"\u001b[39m)\n",
      "\u001b[1;32mc:\\Users\\saumy\\Desktop\\Big-Data-Project-IoT\\All_IoT_Devices_Combined\\data_preparation\\data_preprocessing.ipynb Cell 4'\u001b[0m in \u001b[0;36mprocessData\u001b[1;34m(df, name)\u001b[0m\n\u001b[0;32m     <a href='vscode-notebook-cell:/c%3A/Users/saumy/Desktop/Big-Data-Project-IoT/All_IoT_Devices_Combined/data_preparation/data_preprocessing.ipynb#ch0000003?line=23'>24</a>\u001b[0m \u001b[39mprint\u001b[39m(df\u001b[39m.\u001b[39mconvert_dtypes(infer_objects\u001b[39m=\u001b[39m\u001b[39mTrue\u001b[39;00m, convert_string\u001b[39m=\u001b[39m\u001b[39mTrue\u001b[39;00m,\n\u001b[0;32m     <a href='vscode-notebook-cell:/c%3A/Users/saumy/Desktop/Big-Data-Project-IoT/All_IoT_Devices_Combined/data_preparation/data_preprocessing.ipynb#ch0000003?line=24'>25</a>\u001b[0m       convert_integer\u001b[39m=\u001b[39m\u001b[39mTrue\u001b[39;00m, convert_boolean\u001b[39m=\u001b[39m\u001b[39mTrue\u001b[39;00m, convert_floating\u001b[39m=\u001b[39m\u001b[39mTrue\u001b[39;00m)\u001b[39m.\u001b[39mdtypes)\n\u001b[0;32m     <a href='vscode-notebook-cell:/c%3A/Users/saumy/Desktop/Big-Data-Project-IoT/All_IoT_Devices_Combined/data_preparation/data_preprocessing.ipynb#ch0000003?line=26'>27</a>\u001b[0m \u001b[39m# group data by 'date-time' and selecting mode(or the first value incase all are distinct) for that row\u001b[39;00m\n\u001b[1;32m---> <a href='vscode-notebook-cell:/c%3A/Users/saumy/Desktop/Big-Data-Project-IoT/All_IoT_Devices_Combined/data_preparation/data_preprocessing.ipynb#ch0000003?line=27'>28</a>\u001b[0m df \u001b[39m=\u001b[39m df\u001b[39m.\u001b[39;49mgroupby(by\u001b[39m=\u001b[39;49m\u001b[39m'\u001b[39;49m\u001b[39mdate-time\u001b[39;49m\u001b[39m'\u001b[39;49m)\u001b[39m.\u001b[39;49magg(\u001b[39mlambda\u001b[39;49;00m x: pd\u001b[39m.\u001b[39;49mSeries\u001b[39m.\u001b[39;49mmode(x)[\u001b[39m0\u001b[39;49m])\n\u001b[0;32m     <a href='vscode-notebook-cell:/c%3A/Users/saumy/Desktop/Big-Data-Project-IoT/All_IoT_Devices_Combined/data_preparation/data_preprocessing.ipynb#ch0000003?line=29'>30</a>\u001b[0m \u001b[39m# save this processed data as csv\u001b[39;00m\n\u001b[0;32m     <a href='vscode-notebook-cell:/c%3A/Users/saumy/Desktop/Big-Data-Project-IoT/All_IoT_Devices_Combined/data_preparation/data_preprocessing.ipynb#ch0000003?line=30'>31</a>\u001b[0m df\u001b[39m.\u001b[39mto_csv(\u001b[39mf\u001b[39m\u001b[39m\"\u001b[39m\u001b[39m./processed_data/\u001b[39m\u001b[39m{\u001b[39;00mname\u001b[39m}\u001b[39;00m\u001b[39m.csv\u001b[39m\u001b[39m\"\u001b[39m)\n",
      "File \u001b[1;32mc:\\Python310\\lib\\site-packages\\pandas\\core\\groupby\\generic.py:1010\u001b[0m, in \u001b[0;36mDataFrameGroupBy.aggregate\u001b[1;34m(self, func, engine, engine_kwargs, *args, **kwargs)\u001b[0m\n\u001b[0;32m   <a href='file:///c%3A/Python310/lib/site-packages/pandas/core/groupby/generic.py?line=1007'>1008</a>\u001b[0m gba \u001b[39m=\u001b[39m GroupByApply(\u001b[39mself\u001b[39m, [func], args\u001b[39m=\u001b[39m(), kwargs\u001b[39m=\u001b[39m{})\n\u001b[0;32m   <a href='file:///c%3A/Python310/lib/site-packages/pandas/core/groupby/generic.py?line=1008'>1009</a>\u001b[0m \u001b[39mtry\u001b[39;00m:\n\u001b[1;32m-> <a href='file:///c%3A/Python310/lib/site-packages/pandas/core/groupby/generic.py?line=1009'>1010</a>\u001b[0m     result \u001b[39m=\u001b[39m gba\u001b[39m.\u001b[39;49magg()\n\u001b[0;32m   <a href='file:///c%3A/Python310/lib/site-packages/pandas/core/groupby/generic.py?line=1011'>1012</a>\u001b[0m \u001b[39mexcept\u001b[39;00m \u001b[39mValueError\u001b[39;00m \u001b[39mas\u001b[39;00m err:\n\u001b[0;32m   <a href='file:///c%3A/Python310/lib/site-packages/pandas/core/groupby/generic.py?line=1012'>1013</a>\u001b[0m     \u001b[39mif\u001b[39;00m \u001b[39m\"\u001b[39m\u001b[39mno results\u001b[39m\u001b[39m\"\u001b[39m \u001b[39mnot\u001b[39;00m \u001b[39min\u001b[39;00m \u001b[39mstr\u001b[39m(err):\n\u001b[0;32m   <a href='file:///c%3A/Python310/lib/site-packages/pandas/core/groupby/generic.py?line=1013'>1014</a>\u001b[0m         \u001b[39m# raised directly by _aggregate_multiple_funcs\u001b[39;00m\n",
      "File \u001b[1;32mc:\\Python310\\lib\\site-packages\\pandas\\core\\apply.py:164\u001b[0m, in \u001b[0;36mApply.agg\u001b[1;34m(self)\u001b[0m\n\u001b[0;32m    <a href='file:///c%3A/Python310/lib/site-packages/pandas/core/apply.py?line=160'>161</a>\u001b[0m     \u001b[39mreturn\u001b[39;00m \u001b[39mself\u001b[39m\u001b[39m.\u001b[39magg_dict_like()\n\u001b[0;32m    <a href='file:///c%3A/Python310/lib/site-packages/pandas/core/apply.py?line=161'>162</a>\u001b[0m \u001b[39melif\u001b[39;00m is_list_like(arg):\n\u001b[0;32m    <a href='file:///c%3A/Python310/lib/site-packages/pandas/core/apply.py?line=162'>163</a>\u001b[0m     \u001b[39m# we require a list, but not a 'str'\u001b[39;00m\n\u001b[1;32m--> <a href='file:///c%3A/Python310/lib/site-packages/pandas/core/apply.py?line=163'>164</a>\u001b[0m     \u001b[39mreturn\u001b[39;00m \u001b[39mself\u001b[39;49m\u001b[39m.\u001b[39;49magg_list_like()\n\u001b[0;32m    <a href='file:///c%3A/Python310/lib/site-packages/pandas/core/apply.py?line=165'>166</a>\u001b[0m \u001b[39mif\u001b[39;00m callable(arg):\n\u001b[0;32m    <a href='file:///c%3A/Python310/lib/site-packages/pandas/core/apply.py?line=166'>167</a>\u001b[0m     f \u001b[39m=\u001b[39m com\u001b[39m.\u001b[39mget_cython_func(arg)\n",
      "File \u001b[1;32mc:\\Python310\\lib\\site-packages\\pandas\\core\\apply.py:355\u001b[0m, in \u001b[0;36mApply.agg_list_like\u001b[1;34m(self)\u001b[0m\n\u001b[0;32m    <a href='file:///c%3A/Python310/lib/site-packages/pandas/core/apply.py?line=352'>353</a>\u001b[0m colg \u001b[39m=\u001b[39m obj\u001b[39m.\u001b[39m_gotitem(col, ndim\u001b[39m=\u001b[39m\u001b[39m1\u001b[39m, subset\u001b[39m=\u001b[39mselected_obj\u001b[39m.\u001b[39miloc[:, index])\n\u001b[0;32m    <a href='file:///c%3A/Python310/lib/site-packages/pandas/core/apply.py?line=353'>354</a>\u001b[0m \u001b[39mtry\u001b[39;00m:\n\u001b[1;32m--> <a href='file:///c%3A/Python310/lib/site-packages/pandas/core/apply.py?line=354'>355</a>\u001b[0m     new_res \u001b[39m=\u001b[39m colg\u001b[39m.\u001b[39;49maggregate(arg)\n\u001b[0;32m    <a href='file:///c%3A/Python310/lib/site-packages/pandas/core/apply.py?line=355'>356</a>\u001b[0m \u001b[39mexcept\u001b[39;00m (\u001b[39mTypeError\u001b[39;00m, DataError):\n\u001b[0;32m    <a href='file:///c%3A/Python310/lib/site-packages/pandas/core/apply.py?line=356'>357</a>\u001b[0m     \u001b[39mpass\u001b[39;00m\n",
      "File \u001b[1;32mc:\\Python310\\lib\\site-packages\\pandas\\core\\groupby\\generic.py:249\u001b[0m, in \u001b[0;36mSeriesGroupBy.aggregate\u001b[1;34m(self, func, engine, engine_kwargs, *args, **kwargs)\u001b[0m\n\u001b[0;32m    <a href='file:///c%3A/Python310/lib/site-packages/pandas/core/groupby/generic.py?line=244'>245</a>\u001b[0m \u001b[39melif\u001b[39;00m \u001b[39misinstance\u001b[39m(func, abc\u001b[39m.\u001b[39mIterable):\n\u001b[0;32m    <a href='file:///c%3A/Python310/lib/site-packages/pandas/core/groupby/generic.py?line=245'>246</a>\u001b[0m     \u001b[39m# Catch instances of lists / tuples\u001b[39;00m\n\u001b[0;32m    <a href='file:///c%3A/Python310/lib/site-packages/pandas/core/groupby/generic.py?line=246'>247</a>\u001b[0m     \u001b[39m# but not the class list / tuple itself.\u001b[39;00m\n\u001b[0;32m    <a href='file:///c%3A/Python310/lib/site-packages/pandas/core/groupby/generic.py?line=247'>248</a>\u001b[0m     func \u001b[39m=\u001b[39m maybe_mangle_lambdas(func)\n\u001b[1;32m--> <a href='file:///c%3A/Python310/lib/site-packages/pandas/core/groupby/generic.py?line=248'>249</a>\u001b[0m     ret \u001b[39m=\u001b[39m \u001b[39mself\u001b[39;49m\u001b[39m.\u001b[39;49m_aggregate_multiple_funcs(func)\n\u001b[0;32m    <a href='file:///c%3A/Python310/lib/site-packages/pandas/core/groupby/generic.py?line=249'>250</a>\u001b[0m     \u001b[39mif\u001b[39;00m relabeling:\n\u001b[0;32m    <a href='file:///c%3A/Python310/lib/site-packages/pandas/core/groupby/generic.py?line=250'>251</a>\u001b[0m         \u001b[39m# error: Incompatible types in assignment (expression has type\u001b[39;00m\n\u001b[0;32m    <a href='file:///c%3A/Python310/lib/site-packages/pandas/core/groupby/generic.py?line=251'>252</a>\u001b[0m         \u001b[39m# \"Optional[List[str]]\", variable has type \"Index\")\u001b[39;00m\n\u001b[0;32m    <a href='file:///c%3A/Python310/lib/site-packages/pandas/core/groupby/generic.py?line=252'>253</a>\u001b[0m         ret\u001b[39m.\u001b[39mcolumns \u001b[39m=\u001b[39m columns  \u001b[39m# type: ignore[assignment]\u001b[39;00m\n",
      "File \u001b[1;32mc:\\Python310\\lib\\site-packages\\pandas\\core\\groupby\\generic.py:303\u001b[0m, in \u001b[0;36mSeriesGroupBy._aggregate_multiple_funcs\u001b[1;34m(self, arg)\u001b[0m\n\u001b[0;32m    <a href='file:///c%3A/Python310/lib/site-packages/pandas/core/groupby/generic.py?line=299'>300</a>\u001b[0m \u001b[39mfor\u001b[39;00m idx, (name, func) \u001b[39min\u001b[39;00m \u001b[39menumerate\u001b[39m(arg):\n\u001b[0;32m    <a href='file:///c%3A/Python310/lib/site-packages/pandas/core/groupby/generic.py?line=301'>302</a>\u001b[0m     key \u001b[39m=\u001b[39m base\u001b[39m.\u001b[39mOutputKey(label\u001b[39m=\u001b[39mname, position\u001b[39m=\u001b[39midx)\n\u001b[1;32m--> <a href='file:///c%3A/Python310/lib/site-packages/pandas/core/groupby/generic.py?line=302'>303</a>\u001b[0m     results[key] \u001b[39m=\u001b[39m \u001b[39mself\u001b[39;49m\u001b[39m.\u001b[39;49maggregate(func)\n\u001b[0;32m    <a href='file:///c%3A/Python310/lib/site-packages/pandas/core/groupby/generic.py?line=304'>305</a>\u001b[0m \u001b[39mif\u001b[39;00m \u001b[39many\u001b[39m(\u001b[39misinstance\u001b[39m(x, DataFrame) \u001b[39mfor\u001b[39;00m x \u001b[39min\u001b[39;00m results\u001b[39m.\u001b[39mvalues()):\n\u001b[0;32m    <a href='file:///c%3A/Python310/lib/site-packages/pandas/core/groupby/generic.py?line=305'>306</a>\u001b[0m     \u001b[39mfrom\u001b[39;00m \u001b[39mpandas\u001b[39;00m \u001b[39mimport\u001b[39;00m concat\n",
      "File \u001b[1;32mc:\\Python310\\lib\\site-packages\\pandas\\core\\groupby\\generic.py:265\u001b[0m, in \u001b[0;36mSeriesGroupBy.aggregate\u001b[1;34m(self, func, engine, engine_kwargs, *args, **kwargs)\u001b[0m\n\u001b[0;32m    <a href='file:///c%3A/Python310/lib/site-packages/pandas/core/groupby/generic.py?line=261'>262</a>\u001b[0m     \u001b[39mreturn\u001b[39;00m \u001b[39mself\u001b[39m\u001b[39m.\u001b[39m_python_agg_general(func, \u001b[39m*\u001b[39margs, \u001b[39m*\u001b[39m\u001b[39m*\u001b[39mkwargs)\n\u001b[0;32m    <a href='file:///c%3A/Python310/lib/site-packages/pandas/core/groupby/generic.py?line=263'>264</a>\u001b[0m \u001b[39mtry\u001b[39;00m:\n\u001b[1;32m--> <a href='file:///c%3A/Python310/lib/site-packages/pandas/core/groupby/generic.py?line=264'>265</a>\u001b[0m     \u001b[39mreturn\u001b[39;00m \u001b[39mself\u001b[39m\u001b[39m.\u001b[39m_python_agg_general(func, \u001b[39m*\u001b[39margs, \u001b[39m*\u001b[39m\u001b[39m*\u001b[39mkwargs)\n\u001b[0;32m    <a href='file:///c%3A/Python310/lib/site-packages/pandas/core/groupby/generic.py?line=265'>266</a>\u001b[0m \u001b[39mexcept\u001b[39;00m \u001b[39mKeyError\u001b[39;00m:\n\u001b[0;32m    <a href='file:///c%3A/Python310/lib/site-packages/pandas/core/groupby/generic.py?line=266'>267</a>\u001b[0m     \u001b[39m# TODO: KeyError is raised in _python_agg_general,\u001b[39;00m\n\u001b[0;32m    <a href='file:///c%3A/Python310/lib/site-packages/pandas/core/groupby/generic.py?line=267'>268</a>\u001b[0m     \u001b[39m#  see test_groupby.test_basic\u001b[39;00m\n\u001b[0;32m    <a href='file:///c%3A/Python310/lib/site-packages/pandas/core/groupby/generic.py?line=268'>269</a>\u001b[0m     result \u001b[39m=\u001b[39m \u001b[39mself\u001b[39m\u001b[39m.\u001b[39m_aggregate_named(func, \u001b[39m*\u001b[39margs, \u001b[39m*\u001b[39m\u001b[39m*\u001b[39mkwargs)\n",
      "File \u001b[1;32mc:\\Python310\\lib\\site-packages\\pandas\\core\\groupby\\groupby.py:1332\u001b[0m, in \u001b[0;36mGroupBy._python_agg_general\u001b[1;34m(self, func, *args, **kwargs)\u001b[0m\n\u001b[0;32m   <a href='file:///c%3A/Python310/lib/site-packages/pandas/core/groupby/groupby.py?line=1327'>1328</a>\u001b[0m name \u001b[39m=\u001b[39m obj\u001b[39m.\u001b[39mname\n\u001b[0;32m   <a href='file:///c%3A/Python310/lib/site-packages/pandas/core/groupby/groupby.py?line=1329'>1330</a>\u001b[0m \u001b[39mtry\u001b[39;00m:\n\u001b[0;32m   <a href='file:///c%3A/Python310/lib/site-packages/pandas/core/groupby/groupby.py?line=1330'>1331</a>\u001b[0m     \u001b[39m# if this function is invalid for this dtype, we will ignore it.\u001b[39;00m\n\u001b[1;32m-> <a href='file:///c%3A/Python310/lib/site-packages/pandas/core/groupby/groupby.py?line=1331'>1332</a>\u001b[0m     result \u001b[39m=\u001b[39m \u001b[39mself\u001b[39;49m\u001b[39m.\u001b[39;49mgrouper\u001b[39m.\u001b[39;49magg_series(obj, f)\n\u001b[0;32m   <a href='file:///c%3A/Python310/lib/site-packages/pandas/core/groupby/groupby.py?line=1332'>1333</a>\u001b[0m \u001b[39mexcept\u001b[39;00m \u001b[39mTypeError\u001b[39;00m:\n\u001b[0;32m   <a href='file:///c%3A/Python310/lib/site-packages/pandas/core/groupby/groupby.py?line=1333'>1334</a>\u001b[0m     warnings\u001b[39m.\u001b[39mwarn(\n\u001b[0;32m   <a href='file:///c%3A/Python310/lib/site-packages/pandas/core/groupby/groupby.py?line=1334'>1335</a>\u001b[0m         \u001b[39mf\u001b[39m\u001b[39m\"\u001b[39m\u001b[39mDropping invalid columns in \u001b[39m\u001b[39m{\u001b[39;00m\u001b[39mtype\u001b[39m(\u001b[39mself\u001b[39m)\u001b[39m.\u001b[39m\u001b[39m__name__\u001b[39m\u001b[39m}\u001b[39;00m\u001b[39m.agg \u001b[39m\u001b[39m\"\u001b[39m\n\u001b[0;32m   <a href='file:///c%3A/Python310/lib/site-packages/pandas/core/groupby/groupby.py?line=1335'>1336</a>\u001b[0m         \u001b[39m\"\u001b[39m\u001b[39mis deprecated. In a future version, a TypeError will be raised. \u001b[39m\u001b[39m\"\u001b[39m\n\u001b[1;32m   (...)\u001b[0m\n\u001b[0;32m   <a href='file:///c%3A/Python310/lib/site-packages/pandas/core/groupby/groupby.py?line=1339'>1340</a>\u001b[0m         stacklevel\u001b[39m=\u001b[39m\u001b[39m3\u001b[39m,\n\u001b[0;32m   <a href='file:///c%3A/Python310/lib/site-packages/pandas/core/groupby/groupby.py?line=1340'>1341</a>\u001b[0m     )\n",
      "File \u001b[1;32mc:\\Python310\\lib\\site-packages\\pandas\\core\\groupby\\ops.py:1036\u001b[0m, in \u001b[0;36mBaseGrouper.agg_series\u001b[1;34m(self, obj, func, preserve_dtype)\u001b[0m\n\u001b[0;32m   <a href='file:///c%3A/Python310/lib/site-packages/pandas/core/groupby/ops.py?line=1028'>1029</a>\u001b[0m     result \u001b[39m=\u001b[39m \u001b[39mself\u001b[39m\u001b[39m.\u001b[39m_aggregate_series_pure_python(obj, func)\n\u001b[0;32m   <a href='file:///c%3A/Python310/lib/site-packages/pandas/core/groupby/ops.py?line=1030'>1031</a>\u001b[0m \u001b[39melif\u001b[39;00m \u001b[39mnot\u001b[39;00m \u001b[39misinstance\u001b[39m(obj\u001b[39m.\u001b[39m_values, np\u001b[39m.\u001b[39mndarray):\n\u001b[0;32m   <a href='file:///c%3A/Python310/lib/site-packages/pandas/core/groupby/ops.py?line=1031'>1032</a>\u001b[0m     \u001b[39m# _aggregate_series_fast would raise TypeError when\u001b[39;00m\n\u001b[0;32m   <a href='file:///c%3A/Python310/lib/site-packages/pandas/core/groupby/ops.py?line=1032'>1033</a>\u001b[0m     \u001b[39m#  calling libreduction.Slider\u001b[39;00m\n\u001b[0;32m   <a href='file:///c%3A/Python310/lib/site-packages/pandas/core/groupby/ops.py?line=1033'>1034</a>\u001b[0m     \u001b[39m# In the datetime64tz case it would incorrectly cast to tz-naive\u001b[39;00m\n\u001b[0;32m   <a href='file:///c%3A/Python310/lib/site-packages/pandas/core/groupby/ops.py?line=1034'>1035</a>\u001b[0m     \u001b[39m# TODO: can we get a performant workaround for EAs backed by ndarray?\u001b[39;00m\n\u001b[1;32m-> <a href='file:///c%3A/Python310/lib/site-packages/pandas/core/groupby/ops.py?line=1035'>1036</a>\u001b[0m     result \u001b[39m=\u001b[39m \u001b[39mself\u001b[39;49m\u001b[39m.\u001b[39;49m_aggregate_series_pure_python(obj, func)\n\u001b[0;32m   <a href='file:///c%3A/Python310/lib/site-packages/pandas/core/groupby/ops.py?line=1037'>1038</a>\u001b[0m     \u001b[39m# we can preserve a little bit more aggressively with EA dtype\u001b[39;00m\n\u001b[0;32m   <a href='file:///c%3A/Python310/lib/site-packages/pandas/core/groupby/ops.py?line=1038'>1039</a>\u001b[0m     \u001b[39m#  because maybe_cast_pointwise_result will do a try/except\u001b[39;00m\n\u001b[0;32m   <a href='file:///c%3A/Python310/lib/site-packages/pandas/core/groupby/ops.py?line=1039'>1040</a>\u001b[0m     \u001b[39m#  with _from_sequence.  NB we are assuming here that _from_sequence\u001b[39;00m\n\u001b[0;32m   <a href='file:///c%3A/Python310/lib/site-packages/pandas/core/groupby/ops.py?line=1040'>1041</a>\u001b[0m     \u001b[39m#  is sufficiently strict that it casts appropriately.\u001b[39;00m\n\u001b[0;32m   <a href='file:///c%3A/Python310/lib/site-packages/pandas/core/groupby/ops.py?line=1041'>1042</a>\u001b[0m     preserve_dtype \u001b[39m=\u001b[39m \u001b[39mTrue\u001b[39;00m\n",
      "File \u001b[1;32mc:\\Python310\\lib\\site-packages\\pandas\\core\\groupby\\ops.py:1093\u001b[0m, in \u001b[0;36mBaseGrouper._aggregate_series_pure_python\u001b[1;34m(self, obj, func)\u001b[0m\n\u001b[0;32m   <a href='file:///c%3A/Python310/lib/site-packages/pandas/core/groupby/ops.py?line=1086'>1087</a>\u001b[0m splitter \u001b[39m=\u001b[39m get_splitter(obj, ids, ngroups, axis\u001b[39m=\u001b[39m\u001b[39m0\u001b[39m)\n\u001b[0;32m   <a href='file:///c%3A/Python310/lib/site-packages/pandas/core/groupby/ops.py?line=1088'>1089</a>\u001b[0m \u001b[39mfor\u001b[39;00m i, group \u001b[39min\u001b[39;00m \u001b[39menumerate\u001b[39m(splitter):\n\u001b[0;32m   <a href='file:///c%3A/Python310/lib/site-packages/pandas/core/groupby/ops.py?line=1089'>1090</a>\u001b[0m \n\u001b[0;32m   <a href='file:///c%3A/Python310/lib/site-packages/pandas/core/groupby/ops.py?line=1090'>1091</a>\u001b[0m     \u001b[39m# Each step of this loop corresponds to\u001b[39;00m\n\u001b[0;32m   <a href='file:///c%3A/Python310/lib/site-packages/pandas/core/groupby/ops.py?line=1091'>1092</a>\u001b[0m     \u001b[39m#  libreduction._BaseGrouper._apply_to_group\u001b[39;00m\n\u001b[1;32m-> <a href='file:///c%3A/Python310/lib/site-packages/pandas/core/groupby/ops.py?line=1092'>1093</a>\u001b[0m     res \u001b[39m=\u001b[39m func(group)\n\u001b[0;32m   <a href='file:///c%3A/Python310/lib/site-packages/pandas/core/groupby/ops.py?line=1093'>1094</a>\u001b[0m     res \u001b[39m=\u001b[39m libreduction\u001b[39m.\u001b[39mextract_result(res)\n\u001b[0;32m   <a href='file:///c%3A/Python310/lib/site-packages/pandas/core/groupby/ops.py?line=1095'>1096</a>\u001b[0m     \u001b[39mif\u001b[39;00m \u001b[39mnot\u001b[39;00m initialized:\n\u001b[0;32m   <a href='file:///c%3A/Python310/lib/site-packages/pandas/core/groupby/ops.py?line=1096'>1097</a>\u001b[0m         \u001b[39m# We only do this validation on the first iteration\u001b[39;00m\n",
      "File \u001b[1;32mc:\\Python310\\lib\\site-packages\\pandas\\core\\groupby\\groupby.py:1318\u001b[0m, in \u001b[0;36mGroupBy._python_agg_general.<locals>.<lambda>\u001b[1;34m(x)\u001b[0m\n\u001b[0;32m   <a href='file:///c%3A/Python310/lib/site-packages/pandas/core/groupby/groupby.py?line=1314'>1315</a>\u001b[0m \u001b[39m@final\u001b[39m\n\u001b[0;32m   <a href='file:///c%3A/Python310/lib/site-packages/pandas/core/groupby/groupby.py?line=1315'>1316</a>\u001b[0m \u001b[39mdef\u001b[39;00m \u001b[39m_python_agg_general\u001b[39m(\u001b[39mself\u001b[39m, func, \u001b[39m*\u001b[39margs, \u001b[39m*\u001b[39m\u001b[39m*\u001b[39mkwargs):\n\u001b[0;32m   <a href='file:///c%3A/Python310/lib/site-packages/pandas/core/groupby/groupby.py?line=1316'>1317</a>\u001b[0m     func \u001b[39m=\u001b[39m com\u001b[39m.\u001b[39mis_builtin_func(func)\n\u001b[1;32m-> <a href='file:///c%3A/Python310/lib/site-packages/pandas/core/groupby/groupby.py?line=1317'>1318</a>\u001b[0m     f \u001b[39m=\u001b[39m \u001b[39mlambda\u001b[39;00m x: func(x, \u001b[39m*\u001b[39margs, \u001b[39m*\u001b[39m\u001b[39m*\u001b[39mkwargs)\n\u001b[0;32m   <a href='file:///c%3A/Python310/lib/site-packages/pandas/core/groupby/groupby.py?line=1319'>1320</a>\u001b[0m     \u001b[39m# iterate through \"columns\" ex exclusions to populate output dict\u001b[39;00m\n\u001b[0;32m   <a href='file:///c%3A/Python310/lib/site-packages/pandas/core/groupby/groupby.py?line=1320'>1321</a>\u001b[0m     output: \u001b[39mdict\u001b[39m[base\u001b[39m.\u001b[39mOutputKey, ArrayLike] \u001b[39m=\u001b[39m {}\n",
      "\u001b[1;32mc:\\Users\\saumy\\Desktop\\Big-Data-Project-IoT\\All_IoT_Devices_Combined\\data_preparation\\data_preprocessing.ipynb Cell 4'\u001b[0m in \u001b[0;36mprocessData.<locals>.<lambda>\u001b[1;34m(x)\u001b[0m\n\u001b[0;32m     <a href='vscode-notebook-cell:/c%3A/Users/saumy/Desktop/Big-Data-Project-IoT/All_IoT_Devices_Combined/data_preparation/data_preprocessing.ipynb#ch0000003?line=23'>24</a>\u001b[0m \u001b[39mprint\u001b[39m(df\u001b[39m.\u001b[39mconvert_dtypes(infer_objects\u001b[39m=\u001b[39m\u001b[39mTrue\u001b[39;00m, convert_string\u001b[39m=\u001b[39m\u001b[39mTrue\u001b[39;00m,\n\u001b[0;32m     <a href='vscode-notebook-cell:/c%3A/Users/saumy/Desktop/Big-Data-Project-IoT/All_IoT_Devices_Combined/data_preparation/data_preprocessing.ipynb#ch0000003?line=24'>25</a>\u001b[0m       convert_integer\u001b[39m=\u001b[39m\u001b[39mTrue\u001b[39;00m, convert_boolean\u001b[39m=\u001b[39m\u001b[39mTrue\u001b[39;00m, convert_floating\u001b[39m=\u001b[39m\u001b[39mTrue\u001b[39;00m)\u001b[39m.\u001b[39mdtypes)\n\u001b[0;32m     <a href='vscode-notebook-cell:/c%3A/Users/saumy/Desktop/Big-Data-Project-IoT/All_IoT_Devices_Combined/data_preparation/data_preprocessing.ipynb#ch0000003?line=26'>27</a>\u001b[0m \u001b[39m# group data by 'date-time' and selecting mode(or the first value incase all are distinct) for that row\u001b[39;00m\n\u001b[1;32m---> <a href='vscode-notebook-cell:/c%3A/Users/saumy/Desktop/Big-Data-Project-IoT/All_IoT_Devices_Combined/data_preparation/data_preprocessing.ipynb#ch0000003?line=27'>28</a>\u001b[0m df \u001b[39m=\u001b[39m df\u001b[39m.\u001b[39mgroupby(by\u001b[39m=\u001b[39m\u001b[39m'\u001b[39m\u001b[39mdate-time\u001b[39m\u001b[39m'\u001b[39m)\u001b[39m.\u001b[39magg(\u001b[39mlambda\u001b[39;00m x: pd\u001b[39m.\u001b[39;49mSeries\u001b[39m.\u001b[39;49mmode(x)[\u001b[39m0\u001b[39m])\n\u001b[0;32m     <a href='vscode-notebook-cell:/c%3A/Users/saumy/Desktop/Big-Data-Project-IoT/All_IoT_Devices_Combined/data_preparation/data_preprocessing.ipynb#ch0000003?line=29'>30</a>\u001b[0m \u001b[39m# save this processed data as csv\u001b[39;00m\n\u001b[0;32m     <a href='vscode-notebook-cell:/c%3A/Users/saumy/Desktop/Big-Data-Project-IoT/All_IoT_Devices_Combined/data_preparation/data_preprocessing.ipynb#ch0000003?line=30'>31</a>\u001b[0m df\u001b[39m.\u001b[39mto_csv(\u001b[39mf\u001b[39m\u001b[39m\"\u001b[39m\u001b[39m./processed_data/\u001b[39m\u001b[39m{\u001b[39;00mname\u001b[39m}\u001b[39;00m\u001b[39m.csv\u001b[39m\u001b[39m\"\u001b[39m)\n",
      "File \u001b[1;32mc:\\Python310\\lib\\site-packages\\pandas\\core\\series.py:1979\u001b[0m, in \u001b[0;36mSeries.mode\u001b[1;34m(self, dropna)\u001b[0m\n\u001b[0;32m   <a href='file:///c%3A/Python310/lib/site-packages/pandas/core/series.py?line=1960'>1961</a>\u001b[0m \u001b[39m\"\"\"\u001b[39;00m\n\u001b[0;32m   <a href='file:///c%3A/Python310/lib/site-packages/pandas/core/series.py?line=1961'>1962</a>\u001b[0m \u001b[39mReturn the mode(s) of the Series.\u001b[39;00m\n\u001b[0;32m   <a href='file:///c%3A/Python310/lib/site-packages/pandas/core/series.py?line=1962'>1963</a>\u001b[0m \n\u001b[1;32m   (...)\u001b[0m\n\u001b[0;32m   <a href='file:///c%3A/Python310/lib/site-packages/pandas/core/series.py?line=1975'>1976</a>\u001b[0m \u001b[39m    Modes of the Series in sorted order.\u001b[39;00m\n\u001b[0;32m   <a href='file:///c%3A/Python310/lib/site-packages/pandas/core/series.py?line=1976'>1977</a>\u001b[0m \u001b[39m\"\"\"\u001b[39;00m\n\u001b[0;32m   <a href='file:///c%3A/Python310/lib/site-packages/pandas/core/series.py?line=1977'>1978</a>\u001b[0m \u001b[39m# TODO: Add option for bins like value_counts()\u001b[39;00m\n\u001b[1;32m-> <a href='file:///c%3A/Python310/lib/site-packages/pandas/core/series.py?line=1978'>1979</a>\u001b[0m \u001b[39mreturn\u001b[39;00m algorithms\u001b[39m.\u001b[39;49mmode(\u001b[39mself\u001b[39;49m, dropna\u001b[39m=\u001b[39;49mdropna)\n",
      "File \u001b[1;32mc:\\Python310\\lib\\site-packages\\pandas\\core\\algorithms.py:965\u001b[0m, in \u001b[0;36mmode\u001b[1;34m(values, dropna)\u001b[0m\n\u001b[0;32m    <a href='file:///c%3A/Python310/lib/site-packages/pandas/core/algorithms.py?line=960'>961</a>\u001b[0m     values \u001b[39m=\u001b[39m values[\u001b[39m~\u001b[39mmask]\n\u001b[0;32m    <a href='file:///c%3A/Python310/lib/site-packages/pandas/core/algorithms.py?line=962'>963</a>\u001b[0m values, _ \u001b[39m=\u001b[39m _ensure_data(values)\n\u001b[1;32m--> <a href='file:///c%3A/Python310/lib/site-packages/pandas/core/algorithms.py?line=964'>965</a>\u001b[0m npresult \u001b[39m=\u001b[39m htable\u001b[39m.\u001b[39;49mmode(values, dropna\u001b[39m=\u001b[39;49mdropna)\n\u001b[0;32m    <a href='file:///c%3A/Python310/lib/site-packages/pandas/core/algorithms.py?line=965'>966</a>\u001b[0m \u001b[39mtry\u001b[39;00m:\n\u001b[0;32m    <a href='file:///c%3A/Python310/lib/site-packages/pandas/core/algorithms.py?line=966'>967</a>\u001b[0m     npresult \u001b[39m=\u001b[39m np\u001b[39m.\u001b[39msort(npresult)\n",
      "\u001b[1;31mKeyboardInterrupt\u001b[0m: "
     ]
    }
   ],
   "source": [
    "# Function for precessing data, to be called upon each dataset\n",
    "\n",
    "def processData(df, name):\n",
    "    # Remove NaN values\n",
    "    df.dropna(how='any', inplace=True)\n",
    "\n",
    "    # infer and convert to pandas datatypes\n",
    "    df = df.convert_dtypes(infer_objects=True, convert_string=True,\n",
    "                      convert_integer=True, convert_boolean=True, convert_floating=True)\n",
    "\n",
    "    # # remove whitespaces\n",
    "    # cols = df.select_dtypes().columns\n",
    "    # df[cols] = df[cols].apply(lambda x: x.str.strip())\n",
    "\n",
    "    # merge 'date' and 'time' columns into 'date-time'\n",
    "    df['date-time'] = df[['date', 'time']].agg(' '.join, axis=1)\n",
    "    df.drop('date', inplace=True, axis=1)   # Remove 'date' column\n",
    "    df.drop('time', inplace=True, axis=1)   # Remove 'time' column\n",
    "\n",
    "    # convert 'date-time' from string to pandas datetime datatype\n",
    "    df['date-time'] = pd.to_datetime(df['date-time'], format='%d-%b-%y %H:%M:%S')\n",
    "\n",
    "    # infer datatypes once again\n",
    "    print(df.convert_dtypes(infer_objects=True, convert_string=True,\n",
    "          convert_integer=True, convert_boolean=True, convert_floating=True).dtypes)\n",
    "\n",
    "    # group data by 'date-time' and selecting mode(or the first value incase all are distinct) for that row\n",
    "    df = df.groupby(by='date-time').agg(lambda x: pd.Series.mode(x)[0])\n",
    "\n",
    "    # save this processed data as csv\n",
    "    df.to_csv(f\"./processed_data/{name}.csv\")\n",
    "    print()\n",
    "    print()\n",
    "\n",
    "\n",
    "processData(IoT_Fridge, \"IoT_Fridge\")\n",
    "processData(IoT_Garage_Door, \"IoT_Garage_Door\")\n",
    "processData(IoT_GPS_Tracker, \"IoT_GPS_Tracker\")\n",
    "processData(IoT_Modbus, \"IoT_Modbus\")\n",
    "processData(IoT_Motion_Light, \"IoT_Motion_Light\")\n",
    "processData(IoT_Thermostat, \"IoT_Thermostat\")\n",
    "processData(IoT_Weather, \"IoT_Weather\")"
   ]
  },
  {
   "cell_type": "markdown",
   "metadata": {},
   "source": [
    "<br>\n",
    "<br>\n",
    "<center><b>End of File</b></center>"
   ]
  }
 ],
 "metadata": {
  "interpreter": {
   "hash": "369f2c481f4da34e4445cda3fffd2e751bd1c4d706f27375911949ba6bb62e1c"
  },
  "kernelspec": {
   "display_name": "Python 3.10.0 64-bit",
   "language": "python",
   "name": "python3"
  },
  "language_info": {
   "codemirror_mode": {
    "name": "ipython",
    "version": 3
   },
   "file_extension": ".py",
   "mimetype": "text/x-python",
   "name": "python",
   "nbconvert_exporter": "python",
   "pygments_lexer": "ipython3",
   "version": "3.10.0"
  },
  "orig_nbformat": 4,
  "vscode": {
   "interpreter": {
    "hash": "916dbcbb3f70747c44a77c7bcd40155683ae19c65e1c03b4aa3499c5328201f1"
   }
  }
 },
 "nbformat": 4,
 "nbformat_minor": 2
}

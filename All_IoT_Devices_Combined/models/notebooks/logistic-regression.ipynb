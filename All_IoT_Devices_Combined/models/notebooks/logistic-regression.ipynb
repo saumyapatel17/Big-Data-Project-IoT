{
 "cells": [
  {
   "cell_type": "code",
   "execution_count": 1,
   "metadata": {},
   "outputs": [],
   "source": [
    "import pandas as pd\n",
    "from sklearn.preprocessing import LabelEncoder\n",
    "from sklearn.model_selection import train_test_split\n",
    "from sklearn.linear_model import LogisticRegression\n",
    "from sklearn.metrics import confusion_matrix\n",
    "import pickle"
   ]
  },
  {
   "cell_type": "code",
   "execution_count": 2,
   "metadata": {},
   "outputs": [
    {
     "data": {
      "text/html": [
       "<div>\n",
       "<style scoped>\n",
       "    .dataframe tbody tr th:only-of-type {\n",
       "        vertical-align: middle;\n",
       "    }\n",
       "\n",
       "    .dataframe tbody tr th {\n",
       "        vertical-align: top;\n",
       "    }\n",
       "\n",
       "    .dataframe thead th {\n",
       "        text-align: right;\n",
       "    }\n",
       "</style>\n",
       "<table border=\"1\" class=\"dataframe\">\n",
       "  <thead>\n",
       "    <tr style=\"text-align: right;\">\n",
       "      <th></th>\n",
       "      <th>date-time</th>\n",
       "      <th>fridge_temperature</th>\n",
       "      <th>fridge_temp_condition</th>\n",
       "      <th>door_state</th>\n",
       "      <th>door_sphone_signal</th>\n",
       "      <th>gps_latitude</th>\n",
       "      <th>gps_longitude</th>\n",
       "      <th>gps_type</th>\n",
       "      <th>modbus_FC1_Read_Input_Register</th>\n",
       "      <th>modbus_FC2_Read_Discrete_Value</th>\n",
       "      <th>modbus_FC3_Read_Holding_Register</th>\n",
       "      <th>modbus_FC4_Read_Coil</th>\n",
       "      <th>ml_motion_status</th>\n",
       "      <th>ml_light_status</th>\n",
       "      <th>thermostat_current_temperature</th>\n",
       "      <th>thermostat_status</th>\n",
       "      <th>weather_temperature</th>\n",
       "      <th>weather_pressure</th>\n",
       "      <th>weather_humidity</th>\n",
       "    </tr>\n",
       "  </thead>\n",
       "  <tbody>\n",
       "    <tr>\n",
       "      <th>0</th>\n",
       "      <td>31-03-19~12:36:52</td>\n",
       "      <td>13.10</td>\n",
       "      <td>0</td>\n",
       "      <td>0</td>\n",
       "      <td>0</td>\n",
       "      <td>0.0</td>\n",
       "      <td>10.0</td>\n",
       "      <td>2</td>\n",
       "      <td>11287.0</td>\n",
       "      <td>3537.0</td>\n",
       "      <td>27844.0</td>\n",
       "      <td>30527.0</td>\n",
       "      <td>1.0</td>\n",
       "      <td>1</td>\n",
       "      <td>25.0</td>\n",
       "      <td>0.0</td>\n",
       "      <td>31.788508</td>\n",
       "      <td>1.035</td>\n",
       "      <td>32.036579</td>\n",
       "    </tr>\n",
       "    <tr>\n",
       "      <th>1</th>\n",
       "      <td>31-03-19~12:36:53</td>\n",
       "      <td>8.65</td>\n",
       "      <td>0</td>\n",
       "      <td>0</td>\n",
       "      <td>0</td>\n",
       "      <td>0.0</td>\n",
       "      <td>10.0</td>\n",
       "      <td>2</td>\n",
       "      <td>11287.0</td>\n",
       "      <td>3537.0</td>\n",
       "      <td>27844.0</td>\n",
       "      <td>30527.0</td>\n",
       "      <td>0.0</td>\n",
       "      <td>0</td>\n",
       "      <td>25.0</td>\n",
       "      <td>0.0</td>\n",
       "      <td>41.630997</td>\n",
       "      <td>1.035</td>\n",
       "      <td>30.886165</td>\n",
       "    </tr>\n",
       "    <tr>\n",
       "      <th>2</th>\n",
       "      <td>31-03-19~12:36:54</td>\n",
       "      <td>2.00</td>\n",
       "      <td>1</td>\n",
       "      <td>0</td>\n",
       "      <td>0</td>\n",
       "      <td>0.0</td>\n",
       "      <td>10.0</td>\n",
       "      <td>2</td>\n",
       "      <td>11287.0</td>\n",
       "      <td>3537.0</td>\n",
       "      <td>27844.0</td>\n",
       "      <td>30527.0</td>\n",
       "      <td>0.0</td>\n",
       "      <td>0</td>\n",
       "      <td>25.0</td>\n",
       "      <td>0.0</td>\n",
       "      <td>42.256959</td>\n",
       "      <td>1.035</td>\n",
       "      <td>19.755908</td>\n",
       "    </tr>\n",
       "    <tr>\n",
       "      <th>3</th>\n",
       "      <td>31-03-19~12:36:55</td>\n",
       "      <td>4.80</td>\n",
       "      <td>1</td>\n",
       "      <td>0</td>\n",
       "      <td>0</td>\n",
       "      <td>0.0</td>\n",
       "      <td>10.0</td>\n",
       "      <td>2</td>\n",
       "      <td>53287.0</td>\n",
       "      <td>1463.0</td>\n",
       "      <td>33518.0</td>\n",
       "      <td>23014.0</td>\n",
       "      <td>1.0</td>\n",
       "      <td>1</td>\n",
       "      <td>25.0</td>\n",
       "      <td>0.0</td>\n",
       "      <td>49.116581</td>\n",
       "      <td>1.035</td>\n",
       "      <td>78.949621</td>\n",
       "    </tr>\n",
       "    <tr>\n",
       "      <th>4</th>\n",
       "      <td>31-03-19~12:36:56</td>\n",
       "      <td>10.70</td>\n",
       "      <td>0</td>\n",
       "      <td>0</td>\n",
       "      <td>0</td>\n",
       "      <td>0.0</td>\n",
       "      <td>10.0</td>\n",
       "      <td>2</td>\n",
       "      <td>53287.0</td>\n",
       "      <td>1463.0</td>\n",
       "      <td>33518.0</td>\n",
       "      <td>23014.0</td>\n",
       "      <td>1.0</td>\n",
       "      <td>1</td>\n",
       "      <td>25.0</td>\n",
       "      <td>0.0</td>\n",
       "      <td>24.017085</td>\n",
       "      <td>1.035</td>\n",
       "      <td>40.001059</td>\n",
       "    </tr>\n",
       "  </tbody>\n",
       "</table>\n",
       "</div>"
      ],
      "text/plain": [
       "           date-time  fridge_temperature  fridge_temp_condition  door_state  \\\n",
       "0  31-03-19~12:36:52               13.10                      0           0   \n",
       "1  31-03-19~12:36:53                8.65                      0           0   \n",
       "2  31-03-19~12:36:54                2.00                      1           0   \n",
       "3  31-03-19~12:36:55                4.80                      1           0   \n",
       "4  31-03-19~12:36:56               10.70                      0           0   \n",
       "\n",
       "   door_sphone_signal  gps_latitude  gps_longitude  gps_type  \\\n",
       "0                   0           0.0           10.0         2   \n",
       "1                   0           0.0           10.0         2   \n",
       "2                   0           0.0           10.0         2   \n",
       "3                   0           0.0           10.0         2   \n",
       "4                   0           0.0           10.0         2   \n",
       "\n",
       "   modbus_FC1_Read_Input_Register  modbus_FC2_Read_Discrete_Value  \\\n",
       "0                         11287.0                          3537.0   \n",
       "1                         11287.0                          3537.0   \n",
       "2                         11287.0                          3537.0   \n",
       "3                         53287.0                          1463.0   \n",
       "4                         53287.0                          1463.0   \n",
       "\n",
       "   modbus_FC3_Read_Holding_Register  modbus_FC4_Read_Coil  ml_motion_status  \\\n",
       "0                           27844.0               30527.0               1.0   \n",
       "1                           27844.0               30527.0               0.0   \n",
       "2                           27844.0               30527.0               0.0   \n",
       "3                           33518.0               23014.0               1.0   \n",
       "4                           33518.0               23014.0               1.0   \n",
       "\n",
       "   ml_light_status  thermostat_current_temperature  thermostat_status  \\\n",
       "0                1                            25.0                0.0   \n",
       "1                0                            25.0                0.0   \n",
       "2                0                            25.0                0.0   \n",
       "3                1                            25.0                0.0   \n",
       "4                1                            25.0                0.0   \n",
       "\n",
       "   weather_temperature  weather_pressure  weather_humidity  \n",
       "0            31.788508             1.035         32.036579  \n",
       "1            41.630997             1.035         30.886165  \n",
       "2            42.256959             1.035         19.755908  \n",
       "3            49.116581             1.035         78.949621  \n",
       "4            24.017085             1.035         40.001059  "
      ]
     },
     "execution_count": 2,
     "metadata": {},
     "output_type": "execute_result"
    }
   ],
   "source": [
    "IoT = pd.read_csv('../../data/test_heterogeneous.csv')\n",
    "IoT = IoT.iloc[0:5000]\n",
    "\n",
    "IoT = IoT.dropna()\n",
    "\n",
    "encoder=LabelEncoder()\n",
    "IoT['fridge_temp_condition']=encoder.fit_transform(IoT['fridge_temp_condition'])\n",
    "IoT['door_state']=encoder.fit_transform(IoT['door_state'])\n",
    "IoT['door_sphone_signal']=encoder.fit_transform(IoT['door_sphone_signal'])\n",
    "IoT['gps_type']=encoder.fit_transform(IoT['gps_type'])\n",
    "IoT['ml_light_status']=encoder.fit_transform(IoT['ml_light_status'])\n",
    "\n",
    "IoT.head()"
   ]
  },
  {
   "cell_type": "code",
   "execution_count": 3,
   "metadata": {},
   "outputs": [],
   "source": [
    "x = IoT.drop(['gps_type', 'date-time'], axis=1)\n",
    "y = IoT['gps_type']\n",
    "\n",
    "features=len(x.columns)\n",
    "\n",
    "x_train,x_test,y_train,y_test = train_test_split(x, y, test_size=0.2)"
   ]
  },
  {
   "cell_type": "code",
   "execution_count": 4,
   "metadata": {},
   "outputs": [],
   "source": [
    "model4 = LogisticRegression()"
   ]
  },
  {
   "cell_type": "code",
   "execution_count": 5,
   "metadata": {},
   "outputs": [],
   "source": [
    "filename = '../h5s/logistic-regression.h5'\n",
    "pickle.dump(model4, open(filename, 'wb'))"
   ]
  },
  {
   "cell_type": "code",
   "execution_count": 6,
   "metadata": {},
   "outputs": [
    {
     "name": "stderr",
     "output_type": "stream",
     "text": [
      "c:\\Python310\\lib\\site-packages\\sklearn\\linear_model\\_logistic.py:814: ConvergenceWarning: lbfgs failed to converge (status=1):\n",
      "STOP: TOTAL NO. of ITERATIONS REACHED LIMIT.\n",
      "\n",
      "Increase the number of iterations (max_iter) or scale the data as shown in:\n",
      "    https://scikit-learn.org/stable/modules/preprocessing.html\n",
      "Please also refer to the documentation for alternative solver options:\n",
      "    https://scikit-learn.org/stable/modules/linear_model.html#logistic-regression\n",
      "  n_iter_i = _check_optimize_result(\n"
     ]
    },
    {
     "data": {
      "text/plain": [
       "LogisticRegression()"
      ]
     },
     "execution_count": 6,
     "metadata": {},
     "output_type": "execute_result"
    }
   ],
   "source": [
    "model4.fit(x_train,y_train)"
   ]
  },
  {
   "cell_type": "code",
   "execution_count": 7,
   "metadata": {},
   "outputs": [
    {
     "data": {
      "text/plain": [
       "array([0, 2, 0, 3, 2, 0, 2, 3, 2, 2, 3, 2, 0, 2, 3, 0, 0, 0, 2, 0, 2, 0,\n",
       "       0, 2, 2, 0, 2, 2, 2, 2, 2, 2, 0, 3, 0, 0, 2, 2, 2, 2, 0, 2, 2, 2,\n",
       "       2, 0, 2, 2, 2, 2, 2, 0, 2, 0, 2, 2, 3, 2, 0, 0, 2, 2, 2, 3, 2, 2,\n",
       "       0, 2, 0, 0, 2, 2, 2, 2, 0, 0, 3, 0, 2, 0, 3, 2, 2, 0, 2, 0, 1, 3,\n",
       "       0, 0, 2, 0, 2, 2, 2, 2, 0, 0, 2, 1, 2, 2, 2, 0, 0, 2, 0, 0, 0, 3,\n",
       "       2, 2, 2, 0, 2, 2, 3, 2, 2, 0, 2, 2, 2, 0, 2, 2, 2, 2, 0, 2, 0, 0,\n",
       "       0, 0, 2, 2, 0, 0, 2, 0, 0, 2, 3, 0, 0, 0, 0, 2, 2, 0, 2, 2, 3, 0,\n",
       "       2, 0, 2, 2, 2, 0, 2, 0, 2, 2, 3, 3, 0, 2, 2, 3, 2, 0, 0, 0, 3, 0,\n",
       "       0, 2, 0, 0, 0, 2, 0, 3, 2, 0, 2, 0, 2, 2, 2, 2, 2, 3, 0, 2, 2, 0,\n",
       "       2, 2, 2, 2, 0, 0, 2, 0, 0, 2, 2, 3, 2, 2, 3, 0, 2, 3, 2, 0, 2, 2,\n",
       "       0, 2, 2, 0, 0, 2, 0, 2, 0, 2, 2, 2, 0, 0, 2, 3, 2, 0, 2, 2, 2, 3,\n",
       "       2, 2, 2, 0, 2, 0, 2, 0, 3, 2, 0, 2, 0, 0, 3, 2, 0, 0, 2, 2, 2, 0,\n",
       "       2, 3, 0, 0, 3, 0, 2, 2, 0, 2, 3, 3, 0, 2, 2, 2, 2, 2, 3, 0, 2, 2,\n",
       "       0, 2, 0, 0, 2, 0, 2, 0, 2, 0, 2, 2, 0, 2, 3, 3, 2, 0, 2, 2, 0, 2,\n",
       "       0, 0, 2, 0, 2, 2, 2, 2, 0, 0, 0, 3, 0, 3, 2, 2, 3, 2, 2, 2, 0, 0,\n",
       "       2, 2, 0, 3, 0, 3, 2, 3, 2, 2, 2, 2, 0, 2, 3, 2, 2, 0, 2, 3, 0, 0,\n",
       "       0, 0, 2, 2, 2, 3, 1, 0, 0, 2, 2, 2, 3, 2, 3, 2, 3, 2, 2, 2, 0, 2,\n",
       "       0, 2, 0, 2, 2, 2, 0, 0, 2, 2, 0, 0, 0, 2, 2, 0, 2, 2, 2, 2, 0, 0,\n",
       "       2, 0, 0, 0, 2, 0, 2, 3, 0, 0, 2, 0, 2, 2, 2, 2, 2, 0, 2, 0, 3, 0,\n",
       "       0, 0, 2, 2, 2, 2, 0, 2, 2, 2, 2, 3, 0, 3, 2, 0, 0, 2, 2, 3, 2, 3,\n",
       "       2, 3, 2, 2, 0, 3, 2, 2, 0, 0, 2, 0, 2, 2, 2, 2, 0, 0, 0, 2, 0, 2,\n",
       "       2, 0, 2, 0, 0, 2, 0, 0, 2, 0, 2, 0, 0, 0, 0, 2, 2, 3, 3, 2, 2, 2,\n",
       "       0, 0, 3, 0, 2, 2, 2, 0, 0, 0, 3, 2, 2, 3, 2, 0, 2, 0, 2, 0, 2, 2,\n",
       "       0, 2, 2, 2, 2, 2, 3, 0, 0, 2, 2, 2, 0, 2, 0, 2, 0, 2, 2, 2, 2, 2,\n",
       "       0, 0, 2, 0, 2, 0, 0, 2, 0, 2, 0, 2, 0, 2, 0, 2, 0, 0, 0, 0, 2, 2,\n",
       "       2, 0, 2, 0, 0, 2, 2, 2, 0, 2, 2, 0, 0, 2, 2, 0, 2, 2, 2, 0, 2, 0,\n",
       "       2, 2, 2, 2, 0, 2, 0, 3, 2, 0, 2, 2, 2, 2, 0, 0, 0, 0, 2, 3, 0, 2,\n",
       "       1, 2, 0, 2, 2, 0, 2, 3, 3, 2, 0, 2, 0, 3, 2, 0, 0, 0, 0, 2, 0, 0,\n",
       "       2, 2, 2, 2, 0, 0, 2, 0, 2, 2, 0, 2, 0, 0, 3, 2, 2, 2, 0, 2, 0, 0,\n",
       "       2, 0, 3, 2, 0, 0, 2, 2, 0, 0, 0, 2, 2, 0, 2, 0, 0, 2, 0, 2, 0, 0,\n",
       "       0, 1, 2, 2, 0, 2, 0, 3, 0, 0, 0, 0, 0, 0, 2, 2, 3, 2, 2, 0, 0, 2,\n",
       "       2, 2, 1, 2, 2, 2, 2, 2, 3, 2, 3, 0, 3, 0, 2, 2, 3, 3, 2, 2, 2, 0,\n",
       "       0, 2, 2, 2, 2, 2, 3, 0, 2, 2, 3, 0, 0, 2, 2, 0, 2, 0, 0, 0, 2, 2,\n",
       "       2, 0, 2, 3, 2, 2, 2, 2, 2, 0, 2, 2, 2, 0, 0, 3, 2, 2, 2, 0, 2, 0,\n",
       "       2, 0, 2, 2, 0, 2, 0, 3, 0, 0, 3, 2, 0, 2, 0, 3, 2, 0, 0, 2, 2, 3,\n",
       "       2, 2, 0, 2, 2, 0, 2, 0, 2, 3, 0, 0, 2, 0, 3, 0, 0, 2, 3, 2, 0, 0,\n",
       "       2, 2, 2, 2, 0, 0, 2, 0, 0, 0, 2, 2, 0, 0, 0, 0, 0, 2, 2, 3, 2, 2,\n",
       "       3, 0, 0, 2, 2, 0, 0, 0, 2, 2, 0, 2, 2, 3, 0, 0, 0, 0, 2, 2, 0, 3,\n",
       "       0, 0, 0, 2, 2, 2, 0, 3, 2, 2, 0, 3, 0, 0, 0, 0, 2, 2, 2, 0, 0, 2,\n",
       "       3, 0, 0, 0, 0, 0, 3, 0, 2, 2, 2, 2, 2, 2, 2, 0, 2, 2, 2, 0, 2, 0,\n",
       "       2, 0, 2, 2, 0, 0, 0, 3, 2, 0, 2, 0, 3, 2, 0, 0, 3, 2, 0, 0, 2, 2,\n",
       "       2, 2, 2, 0, 2, 0, 2, 2, 3, 2, 2, 3, 2, 2, 0, 2, 2, 2, 0, 2, 0, 2,\n",
       "       2, 2, 2, 2, 2, 2, 2, 2, 2, 0, 2, 2, 2, 2, 2, 2, 3, 2, 2, 0, 2, 2,\n",
       "       2, 3, 0, 0, 2, 0, 2, 2, 2, 2, 2, 0, 3, 0, 2, 0, 0, 3, 2, 0, 2, 2,\n",
       "       2, 0, 0, 2, 2, 0, 0, 2, 0, 2, 2, 0, 0, 2, 2, 2, 0, 2, 2, 2, 0, 0,\n",
       "       0, 0, 3, 2, 3, 0, 3, 2, 3, 0])"
      ]
     },
     "execution_count": 7,
     "metadata": {},
     "output_type": "execute_result"
    }
   ],
   "source": [
    "y_pred=model4.predict(x_test)\n",
    "y_pred"
   ]
  },
  {
   "cell_type": "code",
   "execution_count": 8,
   "metadata": {},
   "outputs": [
    {
     "name": "stdout",
     "output_type": "stream",
     "text": [
      "Test accuracy: 0.576\n"
     ]
    }
   ],
   "source": [
    "score = model4.score(x_test,y_test)\n",
    "print('Test accuracy:', score)"
   ]
  },
  {
   "cell_type": "code",
   "execution_count": 9,
   "metadata": {},
   "outputs": [
    {
     "data": {
      "text/plain": [
       "array([[282,   0,  97,   9,   0],\n",
       "       [  5,   0, 101,   0,   0],\n",
       "       [ 90,   3, 257,  54,   0],\n",
       "       [  2,   3,  41,  37,   0],\n",
       "       [  0,   0,  13,   6,   0]], dtype=int64)"
      ]
     },
     "execution_count": 9,
     "metadata": {},
     "output_type": "execute_result"
    }
   ],
   "source": [
    "confusion_matrix(y_test,y_pred)"
   ]
  },
  {
   "cell_type": "code",
   "execution_count": 10,
   "metadata": {},
   "outputs": [
    {
     "name": "stdout",
     "output_type": "stream",
     "text": [
      "Test accuracy: 0.576\n",
      "Test precision: 0.5317559132943058\n",
      "Test recall: 0.5871559633027523\n",
      "Test f1Score: 0.5558103395902527\n"
     ]
    }
   ],
   "source": [
    "import numpy as np\n",
    "from sklearn.metrics import classification_report, accuracy_score, f1_score, precision_score, recall_score\n",
    "\n",
    "accuracy = accuracy_score(y_test, y_pred)\n",
    "precision = precision_score(y_test, y_pred, average='weighted', labels=np.unique(y_pred))\n",
    "recall = recall_score(y_test, y_pred, average='weighted', labels=np.unique(y_pred))\n",
    "f1Score = f1_score(y_test, y_pred, average='weighted', labels=np.unique(y_pred))\n",
    "print('Test accuracy:', accuracy)\n",
    "print('Test precision:', precision)\n",
    "print('Test recall:', recall)\n",
    "print('Test f1Score:', f1Score)"
   ]
  }
 ],
 "metadata": {
  "interpreter": {
   "hash": "369f2c481f4da34e4445cda3fffd2e751bd1c4d706f27375911949ba6bb62e1c"
  },
  "kernelspec": {
   "display_name": "Python 3.10.0 64-bit",
   "language": "python",
   "name": "python3"
  },
  "language_info": {
   "codemirror_mode": {
    "name": "ipython",
    "version": 3
   },
   "file_extension": ".py",
   "mimetype": "text/x-python",
   "name": "python",
   "nbconvert_exporter": "python",
   "pygments_lexer": "ipython3",
   "version": "3.10.0"
  },
  "orig_nbformat": 4
 },
 "nbformat": 4,
 "nbformat_minor": 2
}
